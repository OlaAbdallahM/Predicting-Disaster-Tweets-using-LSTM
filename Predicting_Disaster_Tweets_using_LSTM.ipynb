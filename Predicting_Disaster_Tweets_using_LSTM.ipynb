{
 "cells": [
  {
   "cell_type": "markdown",
   "metadata": {
    "id": "g2aypRXr-uUS"
   },
   "source": [
    "## Import Liberaries"
   ]
  },
  {
   "cell_type": "code",
   "execution_count": 1,
   "metadata": {
    "id": "V0dfxL-dhvnF"
   },
   "outputs": [],
   "source": [
    "import json \n",
    "import re \n",
    "import numpy as np \n",
    "import pandas as pd\n",
    "import numpy as np\n",
    "import string\n",
    "import nltk\n",
    "import seaborn as sns\n",
    "\n",
    "from scipy.sparse import csr_matrix, hstack\n",
    "from nltk.corpus import stopwords\n",
    "import matplotlib.pyplot as plt\n",
    "import tensorflow as tf\n",
    "from tensorflow.keras.preprocessing.text import Tokenizer\n",
    "from tensorflow.keras.layers.experimental.preprocessing import TextVectorization\n",
    "from tensorflow.keras.preprocessing.sequence import pad_sequences\n",
    "from tensorflow.python.keras.initializers import RandomNormal\n",
    "from keras.layers import LSTM\n",
    "from tensorflow.keras.utils import to_categorical\n",
    "from sklearn.preprocessing import LabelEncoder\n",
    "from sklearn.naive_bayes import MultinomialNB\n",
    "from sklearn.linear_model import LogisticRegression\n",
    "from tensorflow.keras.layers import Dense, Activation, BatchNormalization, Dropout\n",
    "from tensorflow.keras.models import Sequential \n",
    "from nltk.stem.snowball import SnowballStemmer \n",
    "from sklearn.svm import SVC\n",
    "from sklearn.metrics import confusion_matrix\n",
    "from sklearn.metrics import accuracy_score"
   ]
  },
  {
   "cell_type": "markdown",
   "metadata": {
    "id": "Y_RgFKyM_rSx"
   },
   "source": [
    "##  Read data"
   ]
  },
  {
   "cell_type": "code",
   "execution_count": 2,
   "metadata": {
    "colab": {
     "base_uri": "https://localhost:8080/"
    },
    "id": "FGYg6HnP_53T",
    "outputId": "9de0fc6c-3f2a-4327-ad61-2392072b8749"
   },
   "outputs": [],
   "source": [
    "data=pd.read_csv('train.csv')"
   ]
  },
  {
   "cell_type": "code",
   "execution_count": 3,
   "metadata": {},
   "outputs": [
    {
     "data": {
      "text/html": [
       "<div>\n",
       "<style scoped>\n",
       "    .dataframe tbody tr th:only-of-type {\n",
       "        vertical-align: middle;\n",
       "    }\n",
       "\n",
       "    .dataframe tbody tr th {\n",
       "        vertical-align: top;\n",
       "    }\n",
       "\n",
       "    .dataframe thead th {\n",
       "        text-align: right;\n",
       "    }\n",
       "</style>\n",
       "<table border=\"1\" class=\"dataframe\">\n",
       "  <thead>\n",
       "    <tr style=\"text-align: right;\">\n",
       "      <th></th>\n",
       "      <th>id</th>\n",
       "      <th>keyword</th>\n",
       "      <th>location</th>\n",
       "      <th>text</th>\n",
       "      <th>target</th>\n",
       "    </tr>\n",
       "  </thead>\n",
       "  <tbody>\n",
       "    <tr>\n",
       "      <th>0</th>\n",
       "      <td>1</td>\n",
       "      <td>NaN</td>\n",
       "      <td>NaN</td>\n",
       "      <td>Our Deeds are the Reason of this #earthquake M...</td>\n",
       "      <td>1</td>\n",
       "    </tr>\n",
       "    <tr>\n",
       "      <th>1</th>\n",
       "      <td>4</td>\n",
       "      <td>NaN</td>\n",
       "      <td>NaN</td>\n",
       "      <td>Forest fire near La Ronge Sask. Canada</td>\n",
       "      <td>1</td>\n",
       "    </tr>\n",
       "    <tr>\n",
       "      <th>2</th>\n",
       "      <td>5</td>\n",
       "      <td>NaN</td>\n",
       "      <td>NaN</td>\n",
       "      <td>All residents asked to 'shelter in place' are ...</td>\n",
       "      <td>1</td>\n",
       "    </tr>\n",
       "    <tr>\n",
       "      <th>3</th>\n",
       "      <td>6</td>\n",
       "      <td>NaN</td>\n",
       "      <td>NaN</td>\n",
       "      <td>13,000 people receive #wildfires evacuation or...</td>\n",
       "      <td>1</td>\n",
       "    </tr>\n",
       "    <tr>\n",
       "      <th>4</th>\n",
       "      <td>7</td>\n",
       "      <td>NaN</td>\n",
       "      <td>NaN</td>\n",
       "      <td>Just got sent this photo from Ruby #Alaska as ...</td>\n",
       "      <td>1</td>\n",
       "    </tr>\n",
       "    <tr>\n",
       "      <th>5</th>\n",
       "      <td>8</td>\n",
       "      <td>NaN</td>\n",
       "      <td>NaN</td>\n",
       "      <td>#RockyFire Update =&gt; California Hwy. 20 closed...</td>\n",
       "      <td>1</td>\n",
       "    </tr>\n",
       "    <tr>\n",
       "      <th>6</th>\n",
       "      <td>10</td>\n",
       "      <td>NaN</td>\n",
       "      <td>NaN</td>\n",
       "      <td>#flood #disaster Heavy rain causes flash flood...</td>\n",
       "      <td>1</td>\n",
       "    </tr>\n",
       "    <tr>\n",
       "      <th>7</th>\n",
       "      <td>13</td>\n",
       "      <td>NaN</td>\n",
       "      <td>NaN</td>\n",
       "      <td>I'm on top of the hill and I can see a fire in...</td>\n",
       "      <td>1</td>\n",
       "    </tr>\n",
       "    <tr>\n",
       "      <th>8</th>\n",
       "      <td>14</td>\n",
       "      <td>NaN</td>\n",
       "      <td>NaN</td>\n",
       "      <td>There's an emergency evacuation happening now ...</td>\n",
       "      <td>1</td>\n",
       "    </tr>\n",
       "    <tr>\n",
       "      <th>9</th>\n",
       "      <td>15</td>\n",
       "      <td>NaN</td>\n",
       "      <td>NaN</td>\n",
       "      <td>I'm afraid that the tornado is coming to our a...</td>\n",
       "      <td>1</td>\n",
       "    </tr>\n",
       "    <tr>\n",
       "      <th>10</th>\n",
       "      <td>16</td>\n",
       "      <td>NaN</td>\n",
       "      <td>NaN</td>\n",
       "      <td>Three people died from the heat wave so far</td>\n",
       "      <td>1</td>\n",
       "    </tr>\n",
       "    <tr>\n",
       "      <th>11</th>\n",
       "      <td>17</td>\n",
       "      <td>NaN</td>\n",
       "      <td>NaN</td>\n",
       "      <td>Haha South Tampa is getting flooded hah- WAIT ...</td>\n",
       "      <td>1</td>\n",
       "    </tr>\n",
       "    <tr>\n",
       "      <th>12</th>\n",
       "      <td>18</td>\n",
       "      <td>NaN</td>\n",
       "      <td>NaN</td>\n",
       "      <td>#raining #flooding #Florida #TampaBay #Tampa 1...</td>\n",
       "      <td>1</td>\n",
       "    </tr>\n",
       "    <tr>\n",
       "      <th>13</th>\n",
       "      <td>19</td>\n",
       "      <td>NaN</td>\n",
       "      <td>NaN</td>\n",
       "      <td>#Flood in Bago Myanmar #We arrived Bago</td>\n",
       "      <td>1</td>\n",
       "    </tr>\n",
       "    <tr>\n",
       "      <th>14</th>\n",
       "      <td>20</td>\n",
       "      <td>NaN</td>\n",
       "      <td>NaN</td>\n",
       "      <td>Damage to school bus on 80 in multi car crash ...</td>\n",
       "      <td>1</td>\n",
       "    </tr>\n",
       "    <tr>\n",
       "      <th>15</th>\n",
       "      <td>23</td>\n",
       "      <td>NaN</td>\n",
       "      <td>NaN</td>\n",
       "      <td>What's up man?</td>\n",
       "      <td>0</td>\n",
       "    </tr>\n",
       "    <tr>\n",
       "      <th>16</th>\n",
       "      <td>24</td>\n",
       "      <td>NaN</td>\n",
       "      <td>NaN</td>\n",
       "      <td>I love fruits</td>\n",
       "      <td>0</td>\n",
       "    </tr>\n",
       "    <tr>\n",
       "      <th>17</th>\n",
       "      <td>25</td>\n",
       "      <td>NaN</td>\n",
       "      <td>NaN</td>\n",
       "      <td>Summer is lovely</td>\n",
       "      <td>0</td>\n",
       "    </tr>\n",
       "    <tr>\n",
       "      <th>18</th>\n",
       "      <td>26</td>\n",
       "      <td>NaN</td>\n",
       "      <td>NaN</td>\n",
       "      <td>My car is so fast</td>\n",
       "      <td>0</td>\n",
       "    </tr>\n",
       "    <tr>\n",
       "      <th>19</th>\n",
       "      <td>28</td>\n",
       "      <td>NaN</td>\n",
       "      <td>NaN</td>\n",
       "      <td>What a goooooooaaaaaal!!!!!!</td>\n",
       "      <td>0</td>\n",
       "    </tr>\n",
       "  </tbody>\n",
       "</table>\n",
       "</div>"
      ],
      "text/plain": [
       "    id keyword location                                               text  \\\n",
       "0    1     NaN      NaN  Our Deeds are the Reason of this #earthquake M...   \n",
       "1    4     NaN      NaN             Forest fire near La Ronge Sask. Canada   \n",
       "2    5     NaN      NaN  All residents asked to 'shelter in place' are ...   \n",
       "3    6     NaN      NaN  13,000 people receive #wildfires evacuation or...   \n",
       "4    7     NaN      NaN  Just got sent this photo from Ruby #Alaska as ...   \n",
       "5    8     NaN      NaN  #RockyFire Update => California Hwy. 20 closed...   \n",
       "6   10     NaN      NaN  #flood #disaster Heavy rain causes flash flood...   \n",
       "7   13     NaN      NaN  I'm on top of the hill and I can see a fire in...   \n",
       "8   14     NaN      NaN  There's an emergency evacuation happening now ...   \n",
       "9   15     NaN      NaN  I'm afraid that the tornado is coming to our a...   \n",
       "10  16     NaN      NaN        Three people died from the heat wave so far   \n",
       "11  17     NaN      NaN  Haha South Tampa is getting flooded hah- WAIT ...   \n",
       "12  18     NaN      NaN  #raining #flooding #Florida #TampaBay #Tampa 1...   \n",
       "13  19     NaN      NaN            #Flood in Bago Myanmar #We arrived Bago   \n",
       "14  20     NaN      NaN  Damage to school bus on 80 in multi car crash ...   \n",
       "15  23     NaN      NaN                                     What's up man?   \n",
       "16  24     NaN      NaN                                      I love fruits   \n",
       "17  25     NaN      NaN                                   Summer is lovely   \n",
       "18  26     NaN      NaN                                  My car is so fast   \n",
       "19  28     NaN      NaN                       What a goooooooaaaaaal!!!!!!   \n",
       "\n",
       "    target  \n",
       "0        1  \n",
       "1        1  \n",
       "2        1  \n",
       "3        1  \n",
       "4        1  \n",
       "5        1  \n",
       "6        1  \n",
       "7        1  \n",
       "8        1  \n",
       "9        1  \n",
       "10       1  \n",
       "11       1  \n",
       "12       1  \n",
       "13       1  \n",
       "14       1  \n",
       "15       0  \n",
       "16       0  \n",
       "17       0  \n",
       "18       0  \n",
       "19       0  "
      ]
     },
     "execution_count": 3,
     "metadata": {},
     "output_type": "execute_result"
    }
   ],
   "source": [
    "data.head(20)"
   ]
  },
  {
   "cell_type": "code",
   "execution_count": 4,
   "metadata": {},
   "outputs": [
    {
     "name": "stdout",
     "output_type": "stream",
     "text": [
      "<class 'pandas.core.frame.DataFrame'>\n",
      "RangeIndex: 7613 entries, 0 to 7612\n",
      "Data columns (total 5 columns):\n",
      " #   Column    Non-Null Count  Dtype \n",
      "---  ------    --------------  ----- \n",
      " 0   id        7613 non-null   int64 \n",
      " 1   keyword   7552 non-null   object\n",
      " 2   location  5080 non-null   object\n",
      " 3   text      7613 non-null   object\n",
      " 4   target    7613 non-null   int64 \n",
      "dtypes: int64(2), object(3)\n",
      "memory usage: 297.5+ KB\n"
     ]
    }
   ],
   "source": [
    "data.info()"
   ]
  },
  {
   "cell_type": "code",
   "execution_count": 5,
   "metadata": {},
   "outputs": [],
   "source": [
    "data = data.drop(['id'], axis=1)"
   ]
  },
  {
   "cell_type": "markdown",
   "metadata": {},
   "source": [
    "Remove id ,we won't need it anymore"
   ]
  },
  {
   "cell_type": "markdown",
   "metadata": {},
   "source": [
    "## EDA & Feature Engineering "
   ]
  },
  {
   "cell_type": "markdown",
   "metadata": {},
   "source": [
    "### Handling missing value in keyword"
   ]
  },
  {
   "cell_type": "code",
   "execution_count": 6,
   "metadata": {},
   "outputs": [
    {
     "data": {
      "text/plain": [
       "221"
      ]
     },
     "execution_count": 6,
     "metadata": {},
     "output_type": "execute_result"
    }
   ],
   "source": [
    "data['keyword'].nunique()"
   ]
  },
  {
   "cell_type": "code",
   "execution_count": 7,
   "metadata": {},
   "outputs": [
    {
     "data": {
      "text/plain": [
       "array([nan, 'ablaze', 'accident', 'aftershock', 'airplane%20accident',\n",
       "       'ambulance', 'annihilated', 'annihilation', 'apocalypse',\n",
       "       'armageddon', 'army', 'arson', 'arsonist', 'attack', 'attacked',\n",
       "       'avalanche', 'battle', 'bioterror', 'bioterrorism', 'blaze',\n",
       "       'blazing', 'bleeding', 'blew%20up', 'blight', 'blizzard', 'blood',\n",
       "       'bloody', 'blown%20up', 'body%20bag', 'body%20bagging',\n",
       "       'body%20bags', 'bomb', 'bombed', 'bombing', 'bridge%20collapse',\n",
       "       'buildings%20burning', 'buildings%20on%20fire', 'burned',\n",
       "       'burning', 'burning%20buildings', 'bush%20fires', 'casualties',\n",
       "       'casualty', 'catastrophe', 'catastrophic', 'chemical%20emergency',\n",
       "       'cliff%20fall', 'collapse', 'collapsed', 'collide', 'collided',\n",
       "       'collision', 'crash', 'crashed', 'crush', 'crushed', 'curfew',\n",
       "       'cyclone', 'damage', 'danger', 'dead', 'death', 'deaths', 'debris',\n",
       "       'deluge', 'deluged', 'demolish', 'demolished', 'demolition',\n",
       "       'derail', 'derailed', 'derailment', 'desolate', 'desolation',\n",
       "       'destroy', 'destroyed', 'destruction', 'detonate', 'detonation',\n",
       "       'devastated', 'devastation', 'disaster', 'displaced', 'drought',\n",
       "       'drown', 'drowned', 'drowning', 'dust%20storm', 'earthquake',\n",
       "       'electrocute', 'electrocuted', 'emergency', 'emergency%20plan',\n",
       "       'emergency%20services', 'engulfed', 'epicentre', 'evacuate',\n",
       "       'evacuated', 'evacuation', 'explode', 'exploded', 'explosion',\n",
       "       'eyewitness', 'famine', 'fatal', 'fatalities', 'fatality', 'fear',\n",
       "       'fire', 'fire%20truck', 'first%20responders', 'flames',\n",
       "       'flattened', 'flood', 'flooding', 'floods', 'forest%20fire',\n",
       "       'forest%20fires', 'hail', 'hailstorm', 'harm', 'hazard',\n",
       "       'hazardous', 'heat%20wave', 'hellfire', 'hijack', 'hijacker',\n",
       "       'hijacking', 'hostage', 'hostages', 'hurricane', 'injured',\n",
       "       'injuries', 'injury', 'inundated', 'inundation', 'landslide',\n",
       "       'lava', 'lightning', 'loud%20bang', 'mass%20murder',\n",
       "       'mass%20murderer', 'massacre', 'mayhem', 'meltdown', 'military',\n",
       "       'mudslide', 'natural%20disaster', 'nuclear%20disaster',\n",
       "       'nuclear%20reactor', 'obliterate', 'obliterated', 'obliteration',\n",
       "       'oil%20spill', 'outbreak', 'pandemonium', 'panic', 'panicking',\n",
       "       'police', 'quarantine', 'quarantined', 'radiation%20emergency',\n",
       "       'rainstorm', 'razed', 'refugees', 'rescue', 'rescued', 'rescuers',\n",
       "       'riot', 'rioting', 'rubble', 'ruin', 'sandstorm', 'screamed',\n",
       "       'screaming', 'screams', 'seismic', 'sinkhole', 'sinking', 'siren',\n",
       "       'sirens', 'smoke', 'snowstorm', 'storm', 'stretcher',\n",
       "       'structural%20failure', 'suicide%20bomb', 'suicide%20bomber',\n",
       "       'suicide%20bombing', 'sunk', 'survive', 'survived', 'survivors',\n",
       "       'terrorism', 'terrorist', 'threat', 'thunder', 'thunderstorm',\n",
       "       'tornado', 'tragedy', 'trapped', 'trauma', 'traumatised',\n",
       "       'trouble', 'tsunami', 'twister', 'typhoon', 'upheaval',\n",
       "       'violent%20storm', 'volcano', 'war%20zone', 'weapon', 'weapons',\n",
       "       'whirlwind', 'wild%20fires', 'wildfire', 'windstorm', 'wounded',\n",
       "       'wounds', 'wreck', 'wreckage', 'wrecked'], dtype=object)"
      ]
     },
     "execution_count": 7,
     "metadata": {},
     "output_type": "execute_result"
    }
   ],
   "source": [
    "data['keyword'].unique()"
   ]
  },
  {
   "cell_type": "code",
   "execution_count": 8,
   "metadata": {},
   "outputs": [
    {
     "data": {
      "text/plain": [
       "fatalities               45\n",
       "deluge                   42\n",
       "armageddon               42\n",
       "harm                     41\n",
       "body%20bags              41\n",
       "                         ..\n",
       "forest%20fire            19\n",
       "epicentre                12\n",
       "threat                   11\n",
       "inundation               10\n",
       "radiation%20emergency     9\n",
       "Name: keyword, Length: 221, dtype: int64"
      ]
     },
     "execution_count": 8,
     "metadata": {},
     "output_type": "execute_result"
    }
   ],
   "source": [
    "data['keyword'].value_counts()"
   ]
  },
  {
   "cell_type": "code",
   "execution_count": 9,
   "metadata": {},
   "outputs": [
    {
     "data": {
      "text/plain": [
       "61"
      ]
     },
     "execution_count": 9,
     "metadata": {},
     "output_type": "execute_result"
    }
   ],
   "source": [
    "data['keyword'].isnull().sum()"
   ]
  },
  {
   "cell_type": "code",
   "execution_count": 10,
   "metadata": {},
   "outputs": [
    {
     "name": "stdout",
     "output_type": "stream",
     "text": [
      "missing values : 1 %\n"
     ]
    }
   ],
   "source": [
    "print(\"missing values :\", round((data['keyword'].isnull().sum()/data.shape[0])*100),'%')"
   ]
  },
  {
   "cell_type": "code",
   "execution_count": 11,
   "metadata": {},
   "outputs": [],
   "source": [
    "data['keyword'] = data['keyword'].fillna('empty')"
   ]
  },
  {
   "cell_type": "code",
   "execution_count": 12,
   "metadata": {},
   "outputs": [
    {
     "data": {
      "text/plain": [
       "empty          42\n",
       "wreckage       39\n",
       "outbreak       39\n",
       "derailment     39\n",
       "oil%20spill    37\n",
       "               ..\n",
       "ruin            1\n",
       "body%20bag      1\n",
       "epicentre       1\n",
       "blazing         1\n",
       "body%20bags     1\n",
       "Name: keyword, Length: 221, dtype: int64"
      ]
     },
     "execution_count": 12,
     "metadata": {},
     "output_type": "execute_result"
    }
   ],
   "source": [
    "data[data['target'] == 1]['keyword'].value_counts()"
   ]
  },
  {
   "cell_type": "code",
   "execution_count": 13,
   "metadata": {},
   "outputs": [
    {
     "data": {
      "text/plain": [
       "body%20bags          40\n",
       "armageddon           37\n",
       "harm                 37\n",
       "deluge               36\n",
       "wrecked              36\n",
       "                     ..\n",
       "typhoon               1\n",
       "outbreak              1\n",
       "suicide%20bombing     1\n",
       "suicide%20bomber      1\n",
       "oil%20spill           1\n",
       "Name: keyword, Length: 219, dtype: int64"
      ]
     },
     "execution_count": 13,
     "metadata": {},
     "output_type": "execute_result"
    }
   ],
   "source": [
    "data[data['target'] == 0]['keyword'].value_counts()"
   ]
  },
  {
   "cell_type": "code",
   "execution_count": 14,
   "metadata": {},
   "outputs": [
    {
     "data": {
      "image/png": "[encoded data removed]",
      "text/plain": [
       "<Figure size 432x7200 with 1 Axes>"
      ]
     },
     "metadata": {
      "needs_background": "light"
     },
     "output_type": "display_data"
    }
   ],
   "source": [
    "plt.figure(figsize=(6,100))\n",
    "sns.countplot(data=data, y='keyword', hue='target');"
   ]
  },
  {
   "cell_type": "markdown",
   "metadata": {},
   "source": [
    "### Handling missing value in location"
   ]
  },
  {
   "cell_type": "code",
   "execution_count": 15,
   "metadata": {},
   "outputs": [
    {
     "data": {
      "text/plain": [
       "3341"
      ]
     },
     "execution_count": 15,
     "metadata": {},
     "output_type": "execute_result"
    }
   ],
   "source": [
    "data['location'].nunique()"
   ]
  },
  {
   "cell_type": "code",
   "execution_count": 16,
   "metadata": {},
   "outputs": [
    {
     "data": {
      "text/plain": [
       "array([nan, 'Birmingham', 'Est. September 2012 - Bristol', ...,\n",
       "       'Vancouver, Canada', 'London ', 'Lincoln'], dtype=object)"
      ]
     },
     "execution_count": 16,
     "metadata": {},
     "output_type": "execute_result"
    }
   ],
   "source": [
    "data['location'].unique()"
   ]
  },
  {
   "cell_type": "code",
   "execution_count": 17,
   "metadata": {},
   "outputs": [
    {
     "data": {
      "text/plain": [
       "USA                     104\n",
       "New York                 71\n",
       "United States            50\n",
       "London                   45\n",
       "Canada                   29\n",
       "                       ... \n",
       "with Doflamingo           1\n",
       "Durham N.C                1\n",
       "DÌ_sseldorf, Germany      1\n",
       "Tucson, Arizona           1\n",
       "Kenosha, WI 53143         1\n",
       "Name: location, Length: 3341, dtype: int64"
      ]
     },
     "execution_count": 17,
     "metadata": {},
     "output_type": "execute_result"
    }
   ],
   "source": [
    "data['location'].value_counts()"
   ]
  },
  {
   "cell_type": "code",
   "execution_count": 18,
   "metadata": {},
   "outputs": [
    {
     "data": {
      "text/plain": [
       "2533"
      ]
     },
     "execution_count": 18,
     "metadata": {},
     "output_type": "execute_result"
    }
   ],
   "source": [
    "data['location'].isnull().sum()"
   ]
  },
  {
   "cell_type": "code",
   "execution_count": 19,
   "metadata": {},
   "outputs": [
    {
     "name": "stdout",
     "output_type": "stream",
     "text": [
      "missing values : 33 %\n"
     ]
    }
   ],
   "source": [
    "print(\"missing values :\", round((data['location'].isnull().sum()/data.shape[0])*100),'%')"
   ]
  },
  {
   "cell_type": "code",
   "execution_count": 20,
   "metadata": {},
   "outputs": [
    {
     "data": {
      "text/plain": [
       "USA                  67\n",
       "United States        27\n",
       "Nigeria              22\n",
       "India                20\n",
       "Mumbai               19\n",
       "                     ..\n",
       "Homs- Syria           1\n",
       "London, Sydney        1\n",
       "CORNFIELDS            1\n",
       "Lexington             1\n",
       "Edmonton, Alberta     1\n",
       "Name: location, Length: 1513, dtype: int64"
      ]
     },
     "execution_count": 20,
     "metadata": {},
     "output_type": "execute_result"
    }
   ],
   "source": [
    "data[data['target'] == 1]['location'].value_counts()"
   ]
  },
  {
   "cell_type": "code",
   "execution_count": 21,
   "metadata": {},
   "outputs": [
    {
     "data": {
      "text/plain": [
       "New York                   55\n",
       "USA                        37\n",
       "London                     29\n",
       "United States              23\n",
       "Los Angeles, CA            18\n",
       "                           ..\n",
       "PSN: Pipbois                1\n",
       "The Meadow                  1\n",
       "The Empire/First Order      1\n",
       "chillin at ceder rapids     1\n",
       "Kenosha, WI 53143           1\n",
       "Name: location, Length: 2142, dtype: int64"
      ]
     },
     "execution_count": 21,
     "metadata": {},
     "output_type": "execute_result"
    }
   ],
   "source": [
    "data[data['target'] == 0]['location'].value_counts()"
   ]
  },
  {
   "cell_type": "code",
   "execution_count": 22,
   "metadata": {},
   "outputs": [],
   "source": [
    "top_location = data['location'].value_counts(normalize=True).head(50).index"
   ]
  },
  {
   "cell_type": "code",
   "execution_count": 23,
   "metadata": {},
   "outputs": [
    {
     "data": {
      "image/png": "[encoded data removed]",
      "text/plain": [
       "<Figure size 720x1080 with 1 Axes>"
      ]
     },
     "metadata": {
      "needs_background": "light"
     },
     "output_type": "display_data"
    }
   ],
   "source": [
    "plt.figure(figsize=(10,15))\n",
    "sns.countplot(data=data[data['location'].isin(top_location)], y='location', hue='target');"
   ]
  },
  {
   "cell_type": "code",
   "execution_count": 24,
   "metadata": {},
   "outputs": [
    {
     "data": {
      "text/plain": [
       "0    4342\n",
       "1    3271\n",
       "Name: target, dtype: int64"
      ]
     },
     "execution_count": 24,
     "metadata": {},
     "output_type": "execute_result"
    }
   ],
   "source": [
    "data['target'].value_counts()"
   ]
  },
  {
   "cell_type": "code",
   "execution_count": 25,
   "metadata": {},
   "outputs": [
    {
     "data": {
      "text/plain": [
       "<AxesSubplot:xlabel='target', ylabel='count'>"
      ]
     },
     "execution_count": 25,
     "metadata": {},
     "output_type": "execute_result"
    },
    {
     "data": {
      "image/png": "[encoded data removed]",
      "text/plain": [
       "<Figure size 432x288 with 1 Axes>"
      ]
     },
     "metadata": {
      "needs_background": "light"
     },
     "output_type": "display_data"
    }
   ],
   "source": [
    "sns.countplot(data=data,x='target')"
   ]
  },
  {
   "cell_type": "code",
   "execution_count": 26,
   "metadata": {},
   "outputs": [],
   "source": [
    "data = data.drop(['location'], axis=1)"
   ]
  },
  {
   "cell_type": "markdown",
   "metadata": {},
   "source": [
    "Remove the location, we decided that due to the large number of missing values, it will not help in training the model"
   ]
  },
  {
   "cell_type": "code",
   "execution_count": 27,
   "metadata": {},
   "outputs": [
    {
     "name": "stdout",
     "output_type": "stream",
     "text": [
      "real_tweets:\n",
      "\n",
      "Our Deeds are the Reason of this #earthquake May ALLAH Forgive us all \n",
      "\n",
      "Forest fire near La Ronge Sask. Canada \n",
      "\n",
      "All residents asked to 'shelter in place' are being notified by officers. No other evacuation or shelter in place orders are expected \n",
      "\n",
      "13,000 people receive #wildfires evacuation orders in California  \n",
      "\n",
      "Just got sent this photo from Ruby #Alaska as smoke from #wildfires pours into a school  \n",
      "\n"
     ]
    },
    {
     "data": {
      "text/plain": [
       "\"print('fake_tweets:\\n')\\nfor i in range(5,10):\\n    if fake_tweets[i] is not None:\\n        print(fake_tweets[i],'\\n')\""
      ]
     },
     "execution_count": 27,
     "metadata": {},
     "output_type": "execute_result"
    }
   ],
   "source": [
    "# show some of real and fake data to notice the difference between them\n",
    "\n",
    "real_tweets = data[data['target']==1]['text']\n",
    "fake_tweets = data[data['target']==0]['text']\n",
    "\n",
    "print('real_tweets:\\n')\n",
    "for i in range(5):\n",
    "    print(real_tweets[i],'\\n')\n",
    "    \n",
    "'''print('fake_tweets:\\n')\n",
    "for i in range(5,10):\n",
    "    if fake_tweets[i] is not None:\n",
    "        print(fake_tweets[i],'\\n')'''\n",
    "\n"
   ]
  },
  {
   "cell_type": "markdown",
   "metadata": {},
   "source": [
    " the difference between a real tweet and a fake tweet.\n",
    "\n",
    "real tweets have a longer text length than fake tweets, seem to have more numbers in the text, contain more punctuation in the text, contain more links and more hastags.\n",
    "\n",
    "we will generate new features and see how they affect the target feature, Let's start by creating \"len_text\""
   ]
  },
  {
   "cell_type": "code",
   "execution_count": 28,
   "metadata": {},
   "outputs": [],
   "source": [
    "data['len_text'] = data['text'].apply(len)"
   ]
  },
  {
   "cell_type": "code",
   "execution_count": 29,
   "metadata": {},
   "outputs": [
    {
     "data": {
      "text/html": [
       "<div>\n",
       "<style scoped>\n",
       "    .dataframe tbody tr th:only-of-type {\n",
       "        vertical-align: middle;\n",
       "    }\n",
       "\n",
       "    .dataframe tbody tr th {\n",
       "        vertical-align: top;\n",
       "    }\n",
       "\n",
       "    .dataframe thead th {\n",
       "        text-align: right;\n",
       "    }\n",
       "</style>\n",
       "<table border=\"1\" class=\"dataframe\">\n",
       "  <thead>\n",
       "    <tr style=\"text-align: right;\">\n",
       "      <th>target</th>\n",
       "      <th>0</th>\n",
       "      <th>1</th>\n",
       "    </tr>\n",
       "  </thead>\n",
       "  <tbody>\n",
       "    <tr>\n",
       "      <th>count</th>\n",
       "      <td>4342.000000</td>\n",
       "      <td>3271.000000</td>\n",
       "    </tr>\n",
       "    <tr>\n",
       "      <th>mean</th>\n",
       "      <td>95.706817</td>\n",
       "      <td>108.113421</td>\n",
       "    </tr>\n",
       "    <tr>\n",
       "      <th>std</th>\n",
       "      <td>35.885924</td>\n",
       "      <td>29.309854</td>\n",
       "    </tr>\n",
       "    <tr>\n",
       "      <th>min</th>\n",
       "      <td>7.000000</td>\n",
       "      <td>14.000000</td>\n",
       "    </tr>\n",
       "    <tr>\n",
       "      <th>25%</th>\n",
       "      <td>68.000000</td>\n",
       "      <td>88.000000</td>\n",
       "    </tr>\n",
       "    <tr>\n",
       "      <th>50%</th>\n",
       "      <td>101.000000</td>\n",
       "      <td>115.000000</td>\n",
       "    </tr>\n",
       "    <tr>\n",
       "      <th>75%</th>\n",
       "      <td>130.000000</td>\n",
       "      <td>136.000000</td>\n",
       "    </tr>\n",
       "    <tr>\n",
       "      <th>max</th>\n",
       "      <td>157.000000</td>\n",
       "      <td>151.000000</td>\n",
       "    </tr>\n",
       "  </tbody>\n",
       "</table>\n",
       "</div>"
      ],
      "text/plain": [
       "target            0            1\n",
       "count   4342.000000  3271.000000\n",
       "mean      95.706817   108.113421\n",
       "std       35.885924    29.309854\n",
       "min        7.000000    14.000000\n",
       "25%       68.000000    88.000000\n",
       "50%      101.000000   115.000000\n",
       "75%      130.000000   136.000000\n",
       "max      157.000000   151.000000"
      ]
     },
     "execution_count": 29,
     "metadata": {},
     "output_type": "execute_result"
    }
   ],
   "source": [
    "data.groupby(['target'])['len_text'].describe().T"
   ]
  },
  {
   "cell_type": "code",
   "execution_count": 30,
   "metadata": {},
   "outputs": [
    {
     "data": {
      "text/plain": [
       "<AxesSubplot:xlabel='len_text', ylabel='target'>"
      ]
     },
     "execution_count": 30,
     "metadata": {},
     "output_type": "execute_result"
    },
    {
     "data": {
      "image/png": "[encoded data removed]",
      "text/plain": [
       "<Figure size 432x288 with 1 Axes>"
      ]
     },
     "metadata": {
      "needs_background": "light"
     },
     "output_type": "display_data"
    }
   ],
   "source": [
    "sns.boxplot(data=data, x='len_text', y='target', orient='h')"
   ]
  },
  {
   "cell_type": "markdown",
   "metadata": {},
   "source": [
    "#### standardize len_text"
   ]
  },
  {
   "cell_type": "code",
   "execution_count": 31,
   "metadata": {},
   "outputs": [],
   "source": [
    "from sklearn.preprocessing import MinMaxScaler\n",
    "scal = MinMaxScaler()\n",
    "scal.fit(data['len_text'].values.reshape(-1,1))\n",
    "data['len_text'] = scal.transform(data['len_text'].values.reshape(-1,1))"
   ]
  },
  {
   "cell_type": "code",
   "execution_count": 32,
   "metadata": {},
   "outputs": [],
   "source": [
    "def check_digits(text):\n",
    "    if [char for char in text if char in string.digits]:\n",
    "        return 1\n",
    "    else:\n",
    "        return 0\n",
    "    \n",
    "def check_punctation(text):\n",
    "    if [char for char in text if char in string.punctuation]:\n",
    "        return 1\n",
    "    else:\n",
    "        return 0\n",
    "    \n",
    "def count_punctation(text):\n",
    "    count = 0\n",
    "    for char in text:\n",
    "        if char in string.punctuation:    \n",
    "            count +=1\n",
    "    return count\n",
    "\n",
    "def count_digits(text):\n",
    "    count = 0\n",
    "    for char in text:\n",
    "        if char in string.digits:    \n",
    "            count +=1\n",
    "    return count"
   ]
  },
  {
   "cell_type": "code",
   "execution_count": 33,
   "metadata": {},
   "outputs": [],
   "source": [
    "data['check_digits'] = data['text'].apply(lambda x: check_digits(x))\n",
    "data['check_punctation'] = data['text'].apply(lambda x: check_punctation(x))\n",
    "data['count_punctation'] = data['text'].apply(lambda x: count_punctation(x))\n",
    "data['count_digits'] = data['text'].apply(lambda x: count_digits(x))"
   ]
  },
  {
   "cell_type": "code",
   "execution_count": 34,
   "metadata": {},
   "outputs": [
    {
     "data": {
      "text/html": [
       "<div>\n",
       "<style scoped>\n",
       "    .dataframe tbody tr th:only-of-type {\n",
       "        vertical-align: middle;\n",
       "    }\n",
       "\n",
       "    .dataframe tbody tr th {\n",
       "        vertical-align: top;\n",
       "    }\n",
       "\n",
       "    .dataframe thead th {\n",
       "        text-align: right;\n",
       "    }\n",
       "</style>\n",
       "<table border=\"1\" class=\"dataframe\">\n",
       "  <thead>\n",
       "    <tr style=\"text-align: right;\">\n",
       "      <th>target</th>\n",
       "      <th>0</th>\n",
       "      <th>1</th>\n",
       "    </tr>\n",
       "  </thead>\n",
       "  <tbody>\n",
       "    <tr>\n",
       "      <th>count</th>\n",
       "      <td>4342.000000</td>\n",
       "      <td>3271.000000</td>\n",
       "    </tr>\n",
       "    <tr>\n",
       "      <th>mean</th>\n",
       "      <td>6.309074</td>\n",
       "      <td>7.543565</td>\n",
       "    </tr>\n",
       "    <tr>\n",
       "      <th>std</th>\n",
       "      <td>4.830297</td>\n",
       "      <td>4.195437</td>\n",
       "    </tr>\n",
       "    <tr>\n",
       "      <th>min</th>\n",
       "      <td>0.000000</td>\n",
       "      <td>0.000000</td>\n",
       "    </tr>\n",
       "    <tr>\n",
       "      <th>25%</th>\n",
       "      <td>3.000000</td>\n",
       "      <td>5.000000</td>\n",
       "    </tr>\n",
       "    <tr>\n",
       "      <th>50%</th>\n",
       "      <td>6.000000</td>\n",
       "      <td>7.000000</td>\n",
       "    </tr>\n",
       "    <tr>\n",
       "      <th>75%</th>\n",
       "      <td>9.000000</td>\n",
       "      <td>10.000000</td>\n",
       "    </tr>\n",
       "    <tr>\n",
       "      <th>max</th>\n",
       "      <td>61.000000</td>\n",
       "      <td>27.000000</td>\n",
       "    </tr>\n",
       "  </tbody>\n",
       "</table>\n",
       "</div>"
      ],
      "text/plain": [
       "target            0            1\n",
       "count   4342.000000  3271.000000\n",
       "mean       6.309074     7.543565\n",
       "std        4.830297     4.195437\n",
       "min        0.000000     0.000000\n",
       "25%        3.000000     5.000000\n",
       "50%        6.000000     7.000000\n",
       "75%        9.000000    10.000000\n",
       "max       61.000000    27.000000"
      ]
     },
     "execution_count": 34,
     "metadata": {},
     "output_type": "execute_result"
    }
   ],
   "source": [
    "data.groupby(['target'])['count_punctation'].describe().T"
   ]
  },
  {
   "cell_type": "code",
   "execution_count": 35,
   "metadata": {},
   "outputs": [
    {
     "data": {
      "text/plain": [
       "<AxesSubplot:xlabel='count_punctation', ylabel='target'>"
      ]
     },
     "execution_count": 35,
     "metadata": {},
     "output_type": "execute_result"
    },
    {
     "data": {
      "image/png": "[encoded data removed]",
      "text/plain": [
       "<Figure size 432x288 with 1 Axes>"
      ]
     },
     "metadata": {
      "needs_background": "light"
     },
     "output_type": "display_data"
    }
   ],
   "source": [
    "sns.boxenplot(data=data, x='count_punctation', y='target', orient='h')"
   ]
  },
  {
   "cell_type": "code",
   "execution_count": 36,
   "metadata": {},
   "outputs": [
    {
     "data": {
      "text/plain": [
       "target\n",
       "0    1.590511\n",
       "1    2.637420\n",
       "Name: count_digits, dtype: float64"
      ]
     },
     "execution_count": 36,
     "metadata": {},
     "output_type": "execute_result"
    }
   ],
   "source": [
    "data.groupby(['target'])['count_digits'].mean()"
   ]
  },
  {
   "cell_type": "code",
   "execution_count": 37,
   "metadata": {},
   "outputs": [
    {
     "data": {
      "text/plain": [
       "<AxesSubplot:xlabel='count_digits', ylabel='target'>"
      ]
     },
     "execution_count": 37,
     "metadata": {},
     "output_type": "execute_result"
    },
    {
     "data": {
      "image/png": "[encoded data removed]",
      "text/plain": [
       "<Figure size 432x288 with 1 Axes>"
      ]
     },
     "metadata": {
      "needs_background": "light"
     },
     "output_type": "display_data"
    }
   ],
   "source": [
    "sns.boxenplot(data=data, x='count_digits', y='target', orient='h')"
   ]
  },
  {
   "cell_type": "code",
   "execution_count": 38,
   "metadata": {},
   "outputs": [
    {
     "data": {
      "text/plain": [
       "<AxesSubplot:xlabel='check_digits', ylabel='count'>"
      ]
     },
     "execution_count": 38,
     "metadata": {},
     "output_type": "execute_result"
    },
    {
     "data": {
      "image/png": "[encoded data removed]",
      "text/plain": [
       "<Figure size 432x288 with 1 Axes>"
      ]
     },
     "metadata": {
      "needs_background": "light"
     },
     "output_type": "display_data"
    }
   ],
   "source": [
    "sns.countplot(data=data, x='check_digits', hue='target')"
   ]
  },
  {
   "cell_type": "markdown",
   "metadata": {},
   "source": [
    "there are a corelation between check digits and the target."
   ]
  },
  {
   "cell_type": "code",
   "execution_count": 39,
   "metadata": {},
   "outputs": [
    {
     "data": {
      "text/plain": [
       "<AxesSubplot:xlabel='check_punctation', ylabel='count'>"
      ]
     },
     "execution_count": 39,
     "metadata": {},
     "output_type": "execute_result"
    },
    {
     "data": {
      "image/png": "[encoded data removed]",
      "text/plain": [
       "<Figure size 432x288 with 1 Axes>"
      ]
     },
     "metadata": {
      "needs_background": "light"
     },
     "output_type": "display_data"
    }
   ],
   "source": [
    "sns.countplot(data=data, x='check_punctation', hue='target')"
   ]
  },
  {
   "cell_type": "markdown",
   "metadata": {},
   "source": [
    "there are no corelation between check puctation and the target, so lets remove this feature."
   ]
  },
  {
   "cell_type": "code",
   "execution_count": 40,
   "metadata": {},
   "outputs": [],
   "source": [
    "data = data.drop(['check_punctation'], axis=1)"
   ]
  },
  {
   "cell_type": "code",
   "execution_count": 41,
   "metadata": {},
   "outputs": [],
   "source": [
    "data['check_http'] = data['text'].str.contains('http')\n",
    "data['check_hash'] = data['text'].str.contains('#')"
   ]
  },
  {
   "cell_type": "code",
   "execution_count": 42,
   "metadata": {},
   "outputs": [
    {
     "data": {
      "text/plain": [
       "<AxesSubplot:xlabel='check_http', ylabel='count'>"
      ]
     },
     "execution_count": 42,
     "metadata": {},
     "output_type": "execute_result"
    },
    {
     "data": {
      "image/png": "[encoded data removed]",
      "text/plain": [
       "<Figure size 432x288 with 1 Axes>"
      ]
     },
     "metadata": {
      "needs_background": "light"
     },
     "output_type": "display_data"
    }
   ],
   "source": [
    "sns.countplot(data=data, x='check_http', hue='target')"
   ]
  },
  {
   "cell_type": "markdown",
   "metadata": {},
   "source": [
    "there are a corelation between check http and the target."
   ]
  },
  {
   "cell_type": "code",
   "execution_count": 43,
   "metadata": {},
   "outputs": [
    {
     "data": {
      "text/plain": [
       "<AxesSubplot:xlabel='check_hash', ylabel='count'>"
      ]
     },
     "execution_count": 43,
     "metadata": {},
     "output_type": "execute_result"
    },
    {
     "data": {
      "image/png": "[encoded data removed]",
      "text/plain": [
       "<Figure size 432x288 with 1 Axes>"
      ]
     },
     "metadata": {
      "needs_background": "light"
     },
     "output_type": "display_data"
    }
   ],
   "source": [
    "sns.countplot(data=data, x='check_hash', hue='target')"
   ]
  },
  {
   "cell_type": "code",
   "execution_count": 44,
   "metadata": {},
   "outputs": [],
   "source": [
    "data['check_http'] = data['check_http'].apply(lambda x: 1 if x else 0)\n",
    "data['check_hash'] = data['check_hash'].apply(lambda x: 1 if x else 0)"
   ]
  },
  {
   "cell_type": "code",
   "execution_count": 45,
   "metadata": {},
   "outputs": [
    {
     "data": {
      "text/html": [
       "<div>\n",
       "<style scoped>\n",
       "    .dataframe tbody tr th:only-of-type {\n",
       "        vertical-align: middle;\n",
       "    }\n",
       "\n",
       "    .dataframe tbody tr th {\n",
       "        vertical-align: top;\n",
       "    }\n",
       "\n",
       "    .dataframe thead th {\n",
       "        text-align: right;\n",
       "    }\n",
       "</style>\n",
       "<table border=\"1\" class=\"dataframe\">\n",
       "  <thead>\n",
       "    <tr style=\"text-align: right;\">\n",
       "      <th></th>\n",
       "      <th>keyword</th>\n",
       "      <th>text</th>\n",
       "      <th>target</th>\n",
       "      <th>len_text</th>\n",
       "      <th>check_digits</th>\n",
       "      <th>count_punctation</th>\n",
       "      <th>count_digits</th>\n",
       "      <th>check_http</th>\n",
       "      <th>check_hash</th>\n",
       "    </tr>\n",
       "  </thead>\n",
       "  <tbody>\n",
       "    <tr>\n",
       "      <th>0</th>\n",
       "      <td>empty</td>\n",
       "      <td>Our Deeds are the Reason of this #earthquake M...</td>\n",
       "      <td>1</td>\n",
       "      <td>0.413333</td>\n",
       "      <td>0</td>\n",
       "      <td>1</td>\n",
       "      <td>0</td>\n",
       "      <td>0</td>\n",
       "      <td>1</td>\n",
       "    </tr>\n",
       "    <tr>\n",
       "      <th>1</th>\n",
       "      <td>empty</td>\n",
       "      <td>Forest fire near La Ronge Sask. Canada</td>\n",
       "      <td>1</td>\n",
       "      <td>0.206667</td>\n",
       "      <td>0</td>\n",
       "      <td>1</td>\n",
       "      <td>0</td>\n",
       "      <td>0</td>\n",
       "      <td>0</td>\n",
       "    </tr>\n",
       "    <tr>\n",
       "      <th>2</th>\n",
       "      <td>empty</td>\n",
       "      <td>All residents asked to 'shelter in place' are ...</td>\n",
       "      <td>1</td>\n",
       "      <td>0.840000</td>\n",
       "      <td>0</td>\n",
       "      <td>3</td>\n",
       "      <td>0</td>\n",
       "      <td>0</td>\n",
       "      <td>0</td>\n",
       "    </tr>\n",
       "    <tr>\n",
       "      <th>3</th>\n",
       "      <td>empty</td>\n",
       "      <td>13,000 people receive #wildfires evacuation or...</td>\n",
       "      <td>1</td>\n",
       "      <td>0.386667</td>\n",
       "      <td>1</td>\n",
       "      <td>2</td>\n",
       "      <td>5</td>\n",
       "      <td>0</td>\n",
       "      <td>1</td>\n",
       "    </tr>\n",
       "    <tr>\n",
       "      <th>4</th>\n",
       "      <td>empty</td>\n",
       "      <td>Just got sent this photo from Ruby #Alaska as ...</td>\n",
       "      <td>1</td>\n",
       "      <td>0.540000</td>\n",
       "      <td>0</td>\n",
       "      <td>2</td>\n",
       "      <td>0</td>\n",
       "      <td>0</td>\n",
       "      <td>1</td>\n",
       "    </tr>\n",
       "  </tbody>\n",
       "</table>\n",
       "</div>"
      ],
      "text/plain": [
       "  keyword                                               text  target  \\\n",
       "0   empty  Our Deeds are the Reason of this #earthquake M...       1   \n",
       "1   empty             Forest fire near La Ronge Sask. Canada       1   \n",
       "2   empty  All residents asked to 'shelter in place' are ...       1   \n",
       "3   empty  13,000 people receive #wildfires evacuation or...       1   \n",
       "4   empty  Just got sent this photo from Ruby #Alaska as ...       1   \n",
       "\n",
       "   len_text  check_digits  count_punctation  count_digits  check_http  \\\n",
       "0  0.413333             0                 1             0           0   \n",
       "1  0.206667             0                 1             0           0   \n",
       "2  0.840000             0                 3             0           0   \n",
       "3  0.386667             1                 2             5           0   \n",
       "4  0.540000             0                 2             0           0   \n",
       "\n",
       "   check_hash  \n",
       "0           1  \n",
       "1           0  \n",
       "2           0  \n",
       "3           1  \n",
       "4           1  "
      ]
     },
     "execution_count": 45,
     "metadata": {},
     "output_type": "execute_result"
    }
   ],
   "source": [
    "data.head()"
   ]
  },
  {
   "cell_type": "code",
   "execution_count": 46,
   "metadata": {},
   "outputs": [
    {
     "data": {
      "text/plain": [
       "<AxesSubplot:>"
      ]
     },
     "execution_count": 46,
     "metadata": {},
     "output_type": "execute_result"
    },
    {
     "data": {
      "image/png": "[encoded data removed]",
      "text/plain": [
       "<Figure size 432x288 with 2 Axes>"
      ]
     },
     "metadata": {
      "needs_background": "light"
     },
     "output_type": "display_data"
    }
   ],
   "source": [
    "sns.heatmap(data.corr(), annot=True)"
   ]
  },
  {
   "cell_type": "markdown",
   "metadata": {},
   "source": [
    "## Text Preprocessing (clean text)"
   ]
  },
  {
   "cell_type": "markdown",
   "metadata": {},
   "source": [
    "remove all stop-words\n",
    "\n",
    "Convert all text to lowercase\n",
    "\n",
    "Remove all other characters that are not alpha, numbers and space\n",
    "\n",
    "Remove extra spaces between words"
   ]
  },
  {
   "cell_type": "code",
   "execution_count": 47,
   "metadata": {},
   "outputs": [
    {
     "name": "stderr",
     "output_type": "stream",
     "text": [
      "[nltk_data] Downloading package stopwords to\n",
      "[nltk_data]     C:\\Users\\olaab\\AppData\\Roaming\\nltk_data...\n",
      "[nltk_data]   Package stopwords is already up-to-date!\n",
      "[nltk_data] Downloading package punkt to\n",
      "[nltk_data]     C:\\Users\\olaab\\AppData\\Roaming\\nltk_data...\n",
      "[nltk_data]   Package punkt is already up-to-date!\n"
     ]
    }
   ],
   "source": [
    "nltk.download('stopwords')\n",
    "from nltk.corpus import stopwords\n",
    "stop_words=stopwords.words('english')\n",
    "nltk.download('punkt')\n",
    "stemmer  = SnowballStemmer('english')"
   ]
  },
  {
   "cell_type": "code",
   "execution_count": 48,
   "metadata": {},
   "outputs": [],
   "source": [
    "from nltk.stem import WordNetLemmatizer \n",
    "le=WordNetLemmatizer()"
   ]
  },
  {
   "cell_type": "markdown",
   "metadata": {},
   "source": [
    "#### functions 1 to clean data"
   ]
  },
  {
   "cell_type": "code",
   "execution_count": 49,
   "metadata": {},
   "outputs": [],
   "source": [
    "def process_tweets(tweets):\n",
    "    \n",
    "    clean_tweets=[]\n",
    "    for tweet in tweets :\n",
    "        tweet=re.sub(r'(@|#)[a-zA-Z0-9_]*','',tweet) # remove mention & hashatge\n",
    "        tweet=re.sub(r'https?:\\/\\/\\S+','',tweet)# remove hyperlink http:\\\\ Or  https:\\\\wwcwvevv ahmed\n",
    "        tweet=re.sub(\"\\W\",\" \",tweet)# remove punc\n",
    "        tweet=re.sub('^\\s+',\"\",tweet) # remove space \n",
    "        tweet=re.sub('\\s+$',\"\",tweet) # remove space\n",
    "\n",
    "        # remove stop words && lemmatizer \n",
    "        \n",
    "        clean_tweet=[le.lemmatize(word.lower())  for word in tweet.split() if word.lower() not in stop_words ]\n",
    "        \n",
    "        clean_tweets.append(clean_tweet)\n",
    "        \n",
    "    return clean_tweets"
   ]
  },
  {
   "cell_type": "markdown",
   "metadata": {},
   "source": [
    "#### functions 2 to clean data"
   ]
  },
  {
   "cell_type": "code",
   "execution_count": 50,
   "metadata": {},
   "outputs": [],
   "source": [
    "def clean_text(tweets):\n",
    "    \n",
    "    clean_tweets=[]\n",
    "    for text in tweets :\n",
    "        text = text.lower()\n",
    "        text = ' '.join([char for char in text.split() if char not in stop_words])\n",
    "\n",
    "        text = ' '.join(['' if 'http' in char else char for char in text.split()])\n",
    "\n",
    "        text = ''.join([char+' ' if char in string.punctuation else char for char in text ])\n",
    "\n",
    "        text = ''.join([char for char in text if char in string.ascii_lowercase or char in ' ' or  char in string.digits])\n",
    "\n",
    "        text = ' '.join(text.split())\n",
    "        clean_tweets.append(text)\n",
    "    \n",
    "    return clean_tweets"
   ]
  },
  {
   "cell_type": "code",
   "execution_count": 51,
   "metadata": {},
   "outputs": [],
   "source": [
    "data['clean_text']=clean_text(data['text'])"
   ]
  },
  {
   "cell_type": "code",
   "execution_count": 52,
   "metadata": {},
   "outputs": [],
   "source": [
    "#data['clean_text'] = data['clean_text'].apply(lambda x: ' '.join(x))"
   ]
  },
  {
   "cell_type": "markdown",
   "metadata": {},
   "source": [
    "###### I use sample() to shuffle the data"
   ]
  },
  {
   "cell_type": "code",
   "execution_count": 53,
   "metadata": {},
   "outputs": [],
   "source": [
    "data = data.sample(frac=1).reset_index(drop=True)"
   ]
  },
  {
   "cell_type": "markdown",
   "metadata": {},
   "source": [
    " we calculate the frequency of occurrences in clean_text and keyword. This is necessary to give lower weights to frequently used words."
   ]
  },
  {
   "cell_type": "code",
   "execution_count": 54,
   "metadata": {},
   "outputs": [],
   "source": [
    "from sklearn.feature_extraction.text import TfidfVectorizer"
   ]
  },
  {
   "cell_type": "code",
   "execution_count": 55,
   "metadata": {},
   "outputs": [],
   "source": [
    "tokenizer=Tokenizer()\n",
    "\n",
    "def process_padd_sequence(data):\n",
    "    tokenizer.fit_on_texts(data)\n",
    "    sequences=tokenizer.texts_to_sequences(data)\n",
    "    paded_sequences=pad_sequences(sequences,maxlen=26)\n",
    "    return paded_sequences"
   ]
  },
  {
   "cell_type": "code",
   "execution_count": 56,
   "metadata": {},
   "outputs": [],
   "source": [
    "data['clean_text_sequence']=data['clean_text'].apply(lambda x: process_padd_sequence(x))\n",
    "data['keyword_sequence']=data['keyword'].apply(lambda x: process_padd_sequence(x))"
   ]
  },
  {
   "cell_type": "code",
   "execution_count": 57,
   "metadata": {},
   "outputs": [
    {
     "data": {
      "text/html": [
       "<div>\n",
       "<style scoped>\n",
       "    .dataframe tbody tr th:only-of-type {\n",
       "        vertical-align: middle;\n",
       "    }\n",
       "\n",
       "    .dataframe tbody tr th {\n",
       "        vertical-align: top;\n",
       "    }\n",
       "\n",
       "    .dataframe thead th {\n",
       "        text-align: right;\n",
       "    }\n",
       "</style>\n",
       "<table border=\"1\" class=\"dataframe\">\n",
       "  <thead>\n",
       "    <tr style=\"text-align: right;\">\n",
       "      <th></th>\n",
       "      <th>keyword</th>\n",
       "      <th>text</th>\n",
       "      <th>target</th>\n",
       "      <th>len_text</th>\n",
       "      <th>check_digits</th>\n",
       "      <th>count_punctation</th>\n",
       "      <th>count_digits</th>\n",
       "      <th>check_http</th>\n",
       "      <th>check_hash</th>\n",
       "      <th>clean_text</th>\n",
       "      <th>clean_text_sequence</th>\n",
       "      <th>keyword_sequence</th>\n",
       "    </tr>\n",
       "  </thead>\n",
       "  <tbody>\n",
       "    <tr>\n",
       "      <th>0</th>\n",
       "      <td>trapped</td>\n",
       "      <td>I trapped this cat in my room and it's going i...</td>\n",
       "      <td>0</td>\n",
       "      <td>0.700000</td>\n",
       "      <td>1</td>\n",
       "      <td>9</td>\n",
       "      <td>1</td>\n",
       "      <td>1</td>\n",
       "      <td>0</td>\n",
       "      <td>trapped cat room going insane leaving pretty</td>\n",
       "      <td>[[0, 0, 0, 0, 0, 0, 0, 0, 0, 0, 0, 0, 0, 0, 0,...</td>\n",
       "      <td>[[0, 0, 0, 0, 0, 0, 0, 0, 0, 0, 0, 0, 0, 0, 0,...</td>\n",
       "    </tr>\n",
       "    <tr>\n",
       "      <th>1</th>\n",
       "      <td>arsonist</td>\n",
       "      <td>#Vegetarian #Vegan Video shows arsonist torchi...</td>\n",
       "      <td>0</td>\n",
       "      <td>0.860000</td>\n",
       "      <td>1</td>\n",
       "      <td>12</td>\n",
       "      <td>1</td>\n",
       "      <td>1</td>\n",
       "      <td>1</td>\n",
       "      <td>vegetarian vegan video shows arsonist torching...</td>\n",
       "      <td>[[0, 0, 0, 0, 0, 0, 0, 0, 0, 0, 0, 0, 0, 0, 0,...</td>\n",
       "      <td>[[0, 0, 0, 0, 0, 0, 0, 0, 0, 0, 0, 0, 0, 0, 0,...</td>\n",
       "    </tr>\n",
       "    <tr>\n",
       "      <th>2</th>\n",
       "      <td>eyewitness</td>\n",
       "      <td>Lone Survivor: The Eyewitness Account of Opera...</td>\n",
       "      <td>1</td>\n",
       "      <td>0.886667</td>\n",
       "      <td>1</td>\n",
       "      <td>12</td>\n",
       "      <td>1</td>\n",
       "      <td>1</td>\n",
       "      <td>0</td>\n",
       "      <td>lone survivor eyewitness account operation red...</td>\n",
       "      <td>[[0, 0, 0, 0, 0, 0, 0, 0, 0, 0, 0, 0, 0, 0, 0,...</td>\n",
       "      <td>[[0, 0, 0, 0, 0, 0, 0, 0, 0, 0, 0, 0, 0, 0, 0,...</td>\n",
       "    </tr>\n",
       "    <tr>\n",
       "      <th>3</th>\n",
       "      <td>rubble</td>\n",
       "      <td>'Refuse to let my life be reduced to rubble. W...</td>\n",
       "      <td>0</td>\n",
       "      <td>0.613333</td>\n",
       "      <td>0</td>\n",
       "      <td>5</td>\n",
       "      <td>0</td>\n",
       "      <td>0</td>\n",
       "      <td>0</td>\n",
       "      <td>refuse let life reduced rubble shit keeps pili...</td>\n",
       "      <td>[[0, 0, 0, 0, 0, 0, 0, 0, 0, 0, 0, 0, 0, 0, 0,...</td>\n",
       "      <td>[[0, 0, 0, 0, 0, 0, 0, 0, 0, 0, 0, 0, 0, 0, 0,...</td>\n",
       "    </tr>\n",
       "    <tr>\n",
       "      <th>4</th>\n",
       "      <td>buildings%20on%20fire</td>\n",
       "      <td>#TweetLikeItsSeptember11th2001 Those two build...</td>\n",
       "      <td>1</td>\n",
       "      <td>0.366667</td>\n",
       "      <td>1</td>\n",
       "      <td>1</td>\n",
       "      <td>6</td>\n",
       "      <td>0</td>\n",
       "      <td>1</td>\n",
       "      <td>tweetlikeitsseptember11th2001 two buildings fire</td>\n",
       "      <td>[[0, 0, 0, 0, 0, 0, 0, 0, 0, 0, 0, 0, 0, 0, 0,...</td>\n",
       "      <td>[[0, 0, 0, 0, 0, 0, 0, 0, 0, 0, 0, 0, 0, 0, 0,...</td>\n",
       "    </tr>\n",
       "  </tbody>\n",
       "</table>\n",
       "</div>"
      ],
      "text/plain": [
       "                 keyword                                               text  \\\n",
       "0                trapped  I trapped this cat in my room and it's going i...   \n",
       "1               arsonist  #Vegetarian #Vegan Video shows arsonist torchi...   \n",
       "2             eyewitness  Lone Survivor: The Eyewitness Account of Opera...   \n",
       "3                 rubble  'Refuse to let my life be reduced to rubble. W...   \n",
       "4  buildings%20on%20fire  #TweetLikeItsSeptember11th2001 Those two build...   \n",
       "\n",
       "   target  len_text  check_digits  count_punctation  count_digits  check_http  \\\n",
       "0       0  0.700000             1                 9             1           1   \n",
       "1       0  0.860000             1                12             1           1   \n",
       "2       1  0.886667             1                12             1           1   \n",
       "3       0  0.613333             0                 5             0           0   \n",
       "4       1  0.366667             1                 1             6           0   \n",
       "\n",
       "   check_hash                                         clean_text  \\\n",
       "0           0       trapped cat room going insane leaving pretty   \n",
       "1           1  vegetarian vegan video shows arsonist torching...   \n",
       "2           0  lone survivor eyewitness account operation red...   \n",
       "3           0  refuse let life reduced rubble shit keeps pili...   \n",
       "4           1   tweetlikeitsseptember11th2001 two buildings fire   \n",
       "\n",
       "                                 clean_text_sequence  \\\n",
       "0  [[0, 0, 0, 0, 0, 0, 0, 0, 0, 0, 0, 0, 0, 0, 0,...   \n",
       "1  [[0, 0, 0, 0, 0, 0, 0, 0, 0, 0, 0, 0, 0, 0, 0,...   \n",
       "2  [[0, 0, 0, 0, 0, 0, 0, 0, 0, 0, 0, 0, 0, 0, 0,...   \n",
       "3  [[0, 0, 0, 0, 0, 0, 0, 0, 0, 0, 0, 0, 0, 0, 0,...   \n",
       "4  [[0, 0, 0, 0, 0, 0, 0, 0, 0, 0, 0, 0, 0, 0, 0,...   \n",
       "\n",
       "                                    keyword_sequence  \n",
       "0  [[0, 0, 0, 0, 0, 0, 0, 0, 0, 0, 0, 0, 0, 0, 0,...  \n",
       "1  [[0, 0, 0, 0, 0, 0, 0, 0, 0, 0, 0, 0, 0, 0, 0,...  \n",
       "2  [[0, 0, 0, 0, 0, 0, 0, 0, 0, 0, 0, 0, 0, 0, 0,...  \n",
       "3  [[0, 0, 0, 0, 0, 0, 0, 0, 0, 0, 0, 0, 0, 0, 0,...  \n",
       "4  [[0, 0, 0, 0, 0, 0, 0, 0, 0, 0, 0, 0, 0, 0, 0,...  "
      ]
     },
     "execution_count": 57,
     "metadata": {},
     "output_type": "execute_result"
    }
   ],
   "source": [
    "data.head()"
   ]
  },
  {
   "cell_type": "code",
   "execution_count": 58,
   "metadata": {},
   "outputs": [],
   "source": [
    "# data2 contains only numeric values\n",
    "data2=data.copy()"
   ]
  },
  {
   "cell_type": "code",
   "execution_count": 59,
   "metadata": {},
   "outputs": [
    {
     "data": {
      "text/html": [
       "<div>\n",
       "<style scoped>\n",
       "    .dataframe tbody tr th:only-of-type {\n",
       "        vertical-align: middle;\n",
       "    }\n",
       "\n",
       "    .dataframe tbody tr th {\n",
       "        vertical-align: top;\n",
       "    }\n",
       "\n",
       "    .dataframe thead th {\n",
       "        text-align: right;\n",
       "    }\n",
       "</style>\n",
       "<table border=\"1\" class=\"dataframe\">\n",
       "  <thead>\n",
       "    <tr style=\"text-align: right;\">\n",
       "      <th></th>\n",
       "      <th>target</th>\n",
       "      <th>len_text</th>\n",
       "      <th>check_digits</th>\n",
       "      <th>count_punctation</th>\n",
       "      <th>count_digits</th>\n",
       "      <th>check_http</th>\n",
       "      <th>check_hash</th>\n",
       "      <th>clean_text_sequence</th>\n",
       "      <th>keyword_sequence</th>\n",
       "    </tr>\n",
       "  </thead>\n",
       "  <tbody>\n",
       "    <tr>\n",
       "      <th>0</th>\n",
       "      <td>0</td>\n",
       "      <td>0.700000</td>\n",
       "      <td>1</td>\n",
       "      <td>9</td>\n",
       "      <td>1</td>\n",
       "      <td>1</td>\n",
       "      <td>0</td>\n",
       "      <td>[[0, 0, 0, 0, 0, 0, 0, 0, 0, 0, 0, 0, 0, 0, 0,...</td>\n",
       "      <td>[[0, 0, 0, 0, 0, 0, 0, 0, 0, 0, 0, 0, 0, 0, 0,...</td>\n",
       "    </tr>\n",
       "    <tr>\n",
       "      <th>1</th>\n",
       "      <td>0</td>\n",
       "      <td>0.860000</td>\n",
       "      <td>1</td>\n",
       "      <td>12</td>\n",
       "      <td>1</td>\n",
       "      <td>1</td>\n",
       "      <td>1</td>\n",
       "      <td>[[0, 0, 0, 0, 0, 0, 0, 0, 0, 0, 0, 0, 0, 0, 0,...</td>\n",
       "      <td>[[0, 0, 0, 0, 0, 0, 0, 0, 0, 0, 0, 0, 0, 0, 0,...</td>\n",
       "    </tr>\n",
       "    <tr>\n",
       "      <th>2</th>\n",
       "      <td>1</td>\n",
       "      <td>0.886667</td>\n",
       "      <td>1</td>\n",
       "      <td>12</td>\n",
       "      <td>1</td>\n",
       "      <td>1</td>\n",
       "      <td>0</td>\n",
       "      <td>[[0, 0, 0, 0, 0, 0, 0, 0, 0, 0, 0, 0, 0, 0, 0,...</td>\n",
       "      <td>[[0, 0, 0, 0, 0, 0, 0, 0, 0, 0, 0, 0, 0, 0, 0,...</td>\n",
       "    </tr>\n",
       "    <tr>\n",
       "      <th>3</th>\n",
       "      <td>0</td>\n",
       "      <td>0.613333</td>\n",
       "      <td>0</td>\n",
       "      <td>5</td>\n",
       "      <td>0</td>\n",
       "      <td>0</td>\n",
       "      <td>0</td>\n",
       "      <td>[[0, 0, 0, 0, 0, 0, 0, 0, 0, 0, 0, 0, 0, 0, 0,...</td>\n",
       "      <td>[[0, 0, 0, 0, 0, 0, 0, 0, 0, 0, 0, 0, 0, 0, 0,...</td>\n",
       "    </tr>\n",
       "    <tr>\n",
       "      <th>4</th>\n",
       "      <td>1</td>\n",
       "      <td>0.366667</td>\n",
       "      <td>1</td>\n",
       "      <td>1</td>\n",
       "      <td>6</td>\n",
       "      <td>0</td>\n",
       "      <td>1</td>\n",
       "      <td>[[0, 0, 0, 0, 0, 0, 0, 0, 0, 0, 0, 0, 0, 0, 0,...</td>\n",
       "      <td>[[0, 0, 0, 0, 0, 0, 0, 0, 0, 0, 0, 0, 0, 0, 0,...</td>\n",
       "    </tr>\n",
       "    <tr>\n",
       "      <th>...</th>\n",
       "      <td>...</td>\n",
       "      <td>...</td>\n",
       "      <td>...</td>\n",
       "      <td>...</td>\n",
       "      <td>...</td>\n",
       "      <td>...</td>\n",
       "      <td>...</td>\n",
       "      <td>...</td>\n",
       "      <td>...</td>\n",
       "    </tr>\n",
       "    <tr>\n",
       "      <th>7608</th>\n",
       "      <td>1</td>\n",
       "      <td>0.746667</td>\n",
       "      <td>0</td>\n",
       "      <td>4</td>\n",
       "      <td>0</td>\n",
       "      <td>0</td>\n",
       "      <td>0</td>\n",
       "      <td>[[0, 0, 0, 0, 0, 0, 0, 0, 0, 0, 0, 0, 0, 0, 0,...</td>\n",
       "      <td>[[0, 0, 0, 0, 0, 0, 0, 0, 0, 0, 0, 0, 0, 0, 0,...</td>\n",
       "    </tr>\n",
       "    <tr>\n",
       "      <th>7609</th>\n",
       "      <td>0</td>\n",
       "      <td>0.746667</td>\n",
       "      <td>0</td>\n",
       "      <td>4</td>\n",
       "      <td>0</td>\n",
       "      <td>0</td>\n",
       "      <td>0</td>\n",
       "      <td>[[0, 0, 0, 0, 0, 0, 0, 0, 0, 0, 0, 0, 0, 0, 0,...</td>\n",
       "      <td>[[0, 0, 0, 0, 0, 0, 0, 0, 0, 0, 0, 0, 0, 0, 0,...</td>\n",
       "    </tr>\n",
       "    <tr>\n",
       "      <th>7610</th>\n",
       "      <td>0</td>\n",
       "      <td>0.360000</td>\n",
       "      <td>0</td>\n",
       "      <td>2</td>\n",
       "      <td>0</td>\n",
       "      <td>0</td>\n",
       "      <td>0</td>\n",
       "      <td>[[0, 0, 0, 0, 0, 0, 0, 0, 0, 0, 0, 0, 0, 0, 0,...</td>\n",
       "      <td>[[0, 0, 0, 0, 0, 0, 0, 0, 0, 0, 0, 0, 0, 0, 0,...</td>\n",
       "    </tr>\n",
       "    <tr>\n",
       "      <th>7611</th>\n",
       "      <td>0</td>\n",
       "      <td>0.886667</td>\n",
       "      <td>0</td>\n",
       "      <td>0</td>\n",
       "      <td>0</td>\n",
       "      <td>0</td>\n",
       "      <td>0</td>\n",
       "      <td>[[0, 0, 0, 0, 0, 0, 0, 0, 0, 0, 0, 0, 0, 0, 0,...</td>\n",
       "      <td>[[0, 0, 0, 0, 0, 0, 0, 0, 0, 0, 0, 0, 0, 0, 0,...</td>\n",
       "    </tr>\n",
       "    <tr>\n",
       "      <th>7612</th>\n",
       "      <td>1</td>\n",
       "      <td>0.553333</td>\n",
       "      <td>1</td>\n",
       "      <td>6</td>\n",
       "      <td>1</td>\n",
       "      <td>1</td>\n",
       "      <td>0</td>\n",
       "      <td>[[0, 0, 0, 0, 0, 0, 0, 0, 0, 0, 0, 0, 0, 0, 0,...</td>\n",
       "      <td>[[0, 0, 0, 0, 0, 0, 0, 0, 0, 0, 0, 0, 0, 0, 0,...</td>\n",
       "    </tr>\n",
       "  </tbody>\n",
       "</table>\n",
       "<p>7613 rows × 9 columns</p>\n",
       "</div>"
      ],
      "text/plain": [
       "      target  len_text  check_digits  count_punctation  count_digits  \\\n",
       "0          0  0.700000             1                 9             1   \n",
       "1          0  0.860000             1                12             1   \n",
       "2          1  0.886667             1                12             1   \n",
       "3          0  0.613333             0                 5             0   \n",
       "4          1  0.366667             1                 1             6   \n",
       "...      ...       ...           ...               ...           ...   \n",
       "7608       1  0.746667             0                 4             0   \n",
       "7609       0  0.746667             0                 4             0   \n",
       "7610       0  0.360000             0                 2             0   \n",
       "7611       0  0.886667             0                 0             0   \n",
       "7612       1  0.553333             1                 6             1   \n",
       "\n",
       "      check_http  check_hash  \\\n",
       "0              1           0   \n",
       "1              1           1   \n",
       "2              1           0   \n",
       "3              0           0   \n",
       "4              0           1   \n",
       "...          ...         ...   \n",
       "7608           0           0   \n",
       "7609           0           0   \n",
       "7610           0           0   \n",
       "7611           0           0   \n",
       "7612           1           0   \n",
       "\n",
       "                                    clean_text_sequence  \\\n",
       "0     [[0, 0, 0, 0, 0, 0, 0, 0, 0, 0, 0, 0, 0, 0, 0,...   \n",
       "1     [[0, 0, 0, 0, 0, 0, 0, 0, 0, 0, 0, 0, 0, 0, 0,...   \n",
       "2     [[0, 0, 0, 0, 0, 0, 0, 0, 0, 0, 0, 0, 0, 0, 0,...   \n",
       "3     [[0, 0, 0, 0, 0, 0, 0, 0, 0, 0, 0, 0, 0, 0, 0,...   \n",
       "4     [[0, 0, 0, 0, 0, 0, 0, 0, 0, 0, 0, 0, 0, 0, 0,...   \n",
       "...                                                 ...   \n",
       "7608  [[0, 0, 0, 0, 0, 0, 0, 0, 0, 0, 0, 0, 0, 0, 0,...   \n",
       "7609  [[0, 0, 0, 0, 0, 0, 0, 0, 0, 0, 0, 0, 0, 0, 0,...   \n",
       "7610  [[0, 0, 0, 0, 0, 0, 0, 0, 0, 0, 0, 0, 0, 0, 0,...   \n",
       "7611  [[0, 0, 0, 0, 0, 0, 0, 0, 0, 0, 0, 0, 0, 0, 0,...   \n",
       "7612  [[0, 0, 0, 0, 0, 0, 0, 0, 0, 0, 0, 0, 0, 0, 0,...   \n",
       "\n",
       "                                       keyword_sequence  \n",
       "0     [[0, 0, 0, 0, 0, 0, 0, 0, 0, 0, 0, 0, 0, 0, 0,...  \n",
       "1     [[0, 0, 0, 0, 0, 0, 0, 0, 0, 0, 0, 0, 0, 0, 0,...  \n",
       "2     [[0, 0, 0, 0, 0, 0, 0, 0, 0, 0, 0, 0, 0, 0, 0,...  \n",
       "3     [[0, 0, 0, 0, 0, 0, 0, 0, 0, 0, 0, 0, 0, 0, 0,...  \n",
       "4     [[0, 0, 0, 0, 0, 0, 0, 0, 0, 0, 0, 0, 0, 0, 0,...  \n",
       "...                                                 ...  \n",
       "7608  [[0, 0, 0, 0, 0, 0, 0, 0, 0, 0, 0, 0, 0, 0, 0,...  \n",
       "7609  [[0, 0, 0, 0, 0, 0, 0, 0, 0, 0, 0, 0, 0, 0, 0,...  \n",
       "7610  [[0, 0, 0, 0, 0, 0, 0, 0, 0, 0, 0, 0, 0, 0, 0,...  \n",
       "7611  [[0, 0, 0, 0, 0, 0, 0, 0, 0, 0, 0, 0, 0, 0, 0,...  \n",
       "7612  [[0, 0, 0, 0, 0, 0, 0, 0, 0, 0, 0, 0, 0, 0, 0,...  \n",
       "\n",
       "[7613 rows x 9 columns]"
      ]
     },
     "execution_count": 59,
     "metadata": {},
     "output_type": "execute_result"
    }
   ],
   "source": [
    "data2.drop(['keyword','text','clean_text'],axis=1)"
   ]
  },
  {
   "cell_type": "code",
   "execution_count": 60,
   "metadata": {},
   "outputs": [],
   "source": [
    "X = data['clean_text']\n",
    "\n",
    "y = data['target']\n",
    "#X_test = data.copy()\n",
    "from sklearn.model_selection import train_test_split\n",
    "X_train,X_test,y_train,y_test = train_test_split(X,np.array(y),test_size=0.16,random_state=42,shuffle=True)"
   ]
  },
  {
   "cell_type": "markdown",
   "metadata": {},
   "source": [
    "#### Vectorizing with TFIDF"
   ]
  },
  {
   "cell_type": "code",
   "execution_count": 61,
   "metadata": {},
   "outputs": [],
   "source": [
    "tfid = TfidfVectorizer()\n",
    "\n",
    "X_train_tfid = tfid.fit_transform(X_train)\n",
    "X_test_tfid = tfid.transform(X_test)"
   ]
  },
  {
   "cell_type": "markdown",
   "metadata": {},
   "source": [
    "#### convert text to squences"
   ]
  },
  {
   "cell_type": "code",
   "execution_count": 62,
   "metadata": {},
   "outputs": [],
   "source": [
    "tokenizer=Tokenizer()\n",
    "\n",
    "tokenizer.fit_on_texts(X_train)\n",
    "sequences=tokenizer.texts_to_sequences(X_train)\n",
    "paded_sequences=pad_sequences(sequences,maxlen=26)\n",
    "\n",
    "tokenizer.fit_on_texts(X_test)\n",
    "sequences=tokenizer.texts_to_sequences(X_test)\n",
    "paded_test=pad_sequences(sequences,maxlen=26)"
   ]
  },
  {
   "cell_type": "markdown",
   "metadata": {},
   "source": [
    "### Machine learning models"
   ]
  },
  {
   "cell_type": "markdown",
   "metadata": {},
   "source": [
    "#### Naive Bayes"
   ]
  },
  {
   "cell_type": "code",
   "execution_count": 63,
   "metadata": {},
   "outputs": [
    {
     "name": "stdout",
     "output_type": "stream",
     "text": [
      "Accuracy :  80.55783429040197\n",
      "training accuracy:  90.45980606818893\n",
      "testing accuracy:  80.55783429040197\n"
     ]
    }
   ],
   "source": [
    "nb = MultinomialNB()\n",
    "nb.fit(X_train_tfid,y_train)\n",
    "\n",
    "y_pred=nb.predict(X_test_tfid)\n",
    "print(\"Accuracy : \",accuracy_score(y_test,y_pred)*100)\n",
    "\n",
    "print(\"training accuracy: \", nb.score(X_train_tfid,y_train)*100)\n",
    "print(\"testing accuracy: \", nb.score(X_test_tfid,y_test)*100)"
   ]
  },
  {
   "cell_type": "code",
   "execution_count": 64,
   "metadata": {},
   "outputs": [
    {
     "data": {
      "image/png": "[encoded data removed]",
      "text/plain": [
       "<Figure size 432x288 with 2 Axes>"
      ]
     },
     "metadata": {
      "needs_background": "light"
     },
     "output_type": "display_data"
    }
   ],
   "source": [
    "from sklearn.metrics import confusion_matrix\n",
    "from sklearn.metrics import ConfusionMatrixDisplay\n",
    "cm = confusion_matrix(y_test,y_pred, labels=nb.classes_)\n",
    "disp= ConfusionMatrixDisplay(confusion_matrix=cm,\n",
    "                           display_labels=nb.classes_)\n",
    "disp.plot();"
   ]
  },
  {
   "cell_type": "markdown",
   "metadata": {},
   "source": [
    "#### Logistic regression"
   ]
  },
  {
   "cell_type": "code",
   "execution_count": 65,
   "metadata": {},
   "outputs": [
    {
     "name": "stdout",
     "output_type": "stream",
     "text": [
      "Accuracy :  81.70631665299426\n",
      "training accuracy:  89.13043478260869\n",
      "testing accuracy:  81.70631665299426\n"
     ]
    }
   ],
   "source": [
    "lr = LogisticRegression()\n",
    "lr.fit(X_train_tfid,y_train)\n",
    "\n",
    "y_pred=lr.predict(X_test_tfid)\n",
    "print(\"Accuracy : \",accuracy_score(y_test,y_pred)*100)\n",
    "\n",
    "print(\"training accuracy: \", lr.score(X_train_tfid,y_train)*100)\n",
    "print(\"testing accuracy: \", lr.score(X_test_tfid,y_test)*100)"
   ]
  },
  {
   "cell_type": "code",
   "execution_count": 66,
   "metadata": {},
   "outputs": [
    {
     "data": {
      "image/png": "[encoded data removed]",
      "text/plain": [
       "<Figure size 432x288 with 2 Axes>"
      ]
     },
     "metadata": {
      "needs_background": "light"
     },
     "output_type": "display_data"
    }
   ],
   "source": [
    "from sklearn.metrics import confusion_matrix\n",
    "from sklearn.metrics import ConfusionMatrixDisplay\n",
    "cm = confusion_matrix(y_test,y_pred, labels=lr.classes_)\n",
    "disp= ConfusionMatrixDisplay(confusion_matrix=cm,\n",
    "                           display_labels=lr.classes_)\n",
    "disp.plot();"
   ]
  },
  {
   "cell_type": "markdown",
   "metadata": {},
   "source": [
    "#### Support Vector Machines"
   ]
  },
  {
   "cell_type": "code",
   "execution_count": 67,
   "metadata": {},
   "outputs": [
    {
     "name": "stdout",
     "output_type": "stream",
     "text": [
      "Accuracy :  81.870385561936\n",
      "training accuracy:  96.90334688770722\n",
      "testing accuracy:  81.870385561936\n"
     ]
    }
   ],
   "source": [
    "svc = SVC()\n",
    "svc.fit(X_train_tfid,y_train)\n",
    "\n",
    "y_pred=svc.predict(X_test_tfid)\n",
    "print(\"Accuracy : \",accuracy_score(y_test,y_pred)*100)\n",
    "print(\"training accuracy: \", svc.score(X_train_tfid,y_train)*100)\n",
    "print(\"testing accuracy: \", svc.score(X_test_tfid,y_test)*100)"
   ]
  },
  {
   "cell_type": "code",
   "execution_count": 68,
   "metadata": {},
   "outputs": [
    {
     "data": {
      "image/png": "[encoded data removed]",
      "text/plain": [
       "<Figure size 432x288 with 2 Axes>"
      ]
     },
     "metadata": {
      "needs_background": "light"
     },
     "output_type": "display_data"
    }
   ],
   "source": [
    "from sklearn.metrics import confusion_matrix\n",
    "from sklearn.metrics import ConfusionMatrixDisplay\n",
    "cm = confusion_matrix(y_test,y_pred, labels=svc.classes_)\n",
    "disp= ConfusionMatrixDisplay(confusion_matrix=cm,\n",
    "                           display_labels=svc.classes_)\n",
    "disp.plot();"
   ]
  },
  {
   "cell_type": "markdown",
   "metadata": {},
   "source": [
    "#### TfidfVectorizer with naive bayes"
   ]
  },
  {
   "cell_type": "code",
   "execution_count": 69,
   "metadata": {},
   "outputs": [
    {
     "data": {
      "text/plain": [
       "Pipeline(steps=[('tfidf', TfidfVectorizer()), ('clf', MultinomialNB())])"
      ]
     },
     "execution_count": 69,
     "metadata": {},
     "output_type": "execute_result"
    }
   ],
   "source": [
    "from sklearn.pipeline import Pipeline\n",
    "\n",
    "# Create tokenization and modelling pipeline\n",
    "model_0 = Pipeline([\n",
    "                    (\"tfidf\", TfidfVectorizer()), # convert words to numbers using tfidf\n",
    "                    (\"clf\", MultinomialNB()) # model the text\n",
    "])\n",
    "\n",
    "# Fit the pipeline to the training data\n",
    "model_0.fit(X_train, y_train)"
   ]
  },
  {
   "cell_type": "code",
   "execution_count": 70,
   "metadata": {},
   "outputs": [
    {
     "name": "stdout",
     "output_type": "stream",
     "text": [
      "Our baseline model achieves an accuracy of: 80.56%\n"
     ]
    }
   ],
   "source": [
    "baseline_score = model_0.score(X_test, y_test)\n",
    "print(f\"Our baseline model achieves an accuracy of: {baseline_score*100:.2f}%\")"
   ]
  },
  {
   "cell_type": "code",
   "execution_count": 71,
   "metadata": {},
   "outputs": [],
   "source": [
    "baseline_preds = model_0.predict(X_test)"
   ]
  },
  {
   "cell_type": "code",
   "execution_count": 72,
   "metadata": {},
   "outputs": [],
   "source": [
    "# Function to evaluate: accuracy, precision, recall, f1-score\n",
    "from sklearn.metrics import accuracy_score, precision_recall_fscore_support\n",
    "\n",
    "def calculate_results(y_true, y_pred):\n",
    "  model_accuracy = accuracy_score(y_true, y_pred) * 100\n",
    "  # Calculate model precision, recall and f1 score using \"weighted\" average\n",
    "  model_precision, model_recall, model_f1, _ = precision_recall_fscore_support(y_true, y_pred, average=\"weighted\")\n",
    "  model_results = {\"accuracy\": model_accuracy,\n",
    "                  \"precision\": model_precision,\n",
    "                  \"recall\": model_recall,\n",
    "                  \"f1\": model_f1}\n",
    "  return model_results"
   ]
  },
  {
   "cell_type": "code",
   "execution_count": 73,
   "metadata": {},
   "outputs": [
    {
     "data": {
      "text/plain": [
       "{'accuracy': 80.55783429040197,\n",
       " 'precision': 0.8047917801669912,\n",
       " 'recall': 0.8055783429040196,\n",
       " 'f1': 0.8025871260127272}"
      ]
     },
     "execution_count": 73,
     "metadata": {},
     "output_type": "execute_result"
    }
   ],
   "source": [
    "baseline_results = calculate_results(y_true=y_test,\n",
    "                                     y_pred=baseline_preds)\n",
    "baseline_results"
   ]
  },
  {
   "cell_type": "markdown",
   "metadata": {},
   "source": [
    "### Deep learning models\n",
    "#### LSTM model"
   ]
  },
  {
   "cell_type": "code",
   "execution_count": 74,
   "metadata": {},
   "outputs": [],
   "source": [
    "# Custom Vectorization with Custom Variable\n",
    "max_vocab_length = 20000 # max number of words to have in our vocabulary\n",
    "max_length = 26 # max length our sequences will be \n",
    "text_vectorizer = TextVectorization(max_tokens=max_vocab_length,\n",
    "                                    output_mode=\"int\",\n",
    "                                    output_sequence_length=max_length)"
   ]
  },
  {
   "cell_type": "code",
   "execution_count": 75,
   "metadata": {},
   "outputs": [],
   "source": [
    "# Fit the text vectorizer to the training text\n",
    "text_vectorizer.adapt(X_train)\n",
    "text_vectorizer.adapt(X_test)"
   ]
  },
  {
   "cell_type": "code",
   "execution_count": 76,
   "metadata": {},
   "outputs": [],
   "source": [
    "words_in_vocab = text_vectorizer.get_vocabulary()"
   ]
  },
  {
   "cell_type": "code",
   "execution_count": 77,
   "metadata": {},
   "outputs": [],
   "source": [
    "from tensorflow.keras import layers\n",
    "embedding = layers.Embedding(input_dim=max_vocab_length, # set input shape\n",
    "                             output_dim=128, # set size of embedding vector\n",
    "                             embeddings_initializer=\"uniform\", # default, intialize randomly\n",
    "                             input_length=max_length, # how long is each input\n",
    "                             name=\"embedding_1\")"
   ]
  },
  {
   "cell_type": "code",
   "execution_count": 78,
   "metadata": {},
   "outputs": [],
   "source": [
    "from tensorflow.keras import layers\n",
    "inputs=layers.Input(shape=(1,),dtype=tf.string)\n",
    "x=text_vectorizer(inputs)\n",
    "x=embedding(x)\n",
    "\n",
    "x=layers.LSTM(64,return_sequences=True)(x)\n",
    "x=layers.LSTM(64)(x)\n",
    "\n",
    "x=layers.Dropout(0.4)(x)\n",
    "x=layers.Dense(64,activation=\"relu\")(x)\n",
    "x=layers.Dropout(0.4)(x)\n",
    "\n",
    "outputs=layers.Dense(1,activation=\"sigmoid\")(x)\n",
    "model_2=tf.keras.Model(inputs,outputs,name=\"Model_2_LSTM\")"
   ]
  },
  {
   "cell_type": "code",
   "execution_count": 79,
   "metadata": {},
   "outputs": [
    {
     "name": "stdout",
     "output_type": "stream",
     "text": [
      "Model: \"Model_2_LSTM\"\n",
      "_________________________________________________________________\n",
      " Layer (type)                Output Shape              Param #   \n",
      "=================================================================\n",
      " input_1 (InputLayer)        [(None, 1)]               0         \n",
      "                                                                 \n",
      " text_vectorization (TextVec  (None, 26)               0         \n",
      " torization)                                                     \n",
      "                                                                 \n",
      " embedding_1 (Embedding)     (None, 26, 128)           2560000   \n",
      "                                                                 \n",
      " lstm (LSTM)                 (None, 26, 64)            49408     \n",
      "                                                                 \n",
      " lstm_1 (LSTM)               (None, 64)                33024     \n",
      "                                                                 \n",
      " dropout (Dropout)           (None, 64)                0         \n",
      "                                                                 \n",
      " dense (Dense)               (None, 64)                4160      \n",
      "                                                                 \n",
      " dropout_1 (Dropout)         (None, 64)                0         \n",
      "                                                                 \n",
      " dense_1 (Dense)             (None, 1)                 65        \n",
      "                                                                 \n",
      "=================================================================\n",
      "Total params: 2,646,657\n",
      "Trainable params: 2,646,657\n",
      "Non-trainable params: 0\n",
      "_________________________________________________________________\n"
     ]
    }
   ],
   "source": [
    "model_2.summary()\n",
    "# While Sttacking RNN Models we need to return sequences mandatorily"
   ]
  },
  {
   "cell_type": "code",
   "execution_count": 80,
   "metadata": {},
   "outputs": [],
   "source": [
    "# Comiling and Fitting the Model\n",
    "model_2.compile(loss=\"binary_crossentropy\", optimizer=tf.keras.optimizers.Adam(),metrics=[\"accuracy\"])"
   ]
  },
  {
   "cell_type": "code",
   "execution_count": 81,
   "metadata": {},
   "outputs": [
    {
     "name": "stdout",
     "output_type": "stream",
     "text": [
      "Epoch 1/100\n",
      "200/200 [==============================] - 9s 34ms/step - loss: 0.5740 - accuracy: 0.6969 - val_loss: 0.4876 - val_accuracy: 0.7621\n",
      "Epoch 2/100\n",
      "200/200 [==============================] - 6s 31ms/step - loss: 0.4085 - accuracy: 0.8395 - val_loss: 0.4853 - val_accuracy: 0.7670\n",
      "Epoch 3/100\n",
      "200/200 [==============================] - 6s 29ms/step - loss: 0.3406 - accuracy: 0.8668 - val_loss: 0.5022 - val_accuracy: 0.7769\n",
      "Epoch 4/100\n",
      "200/200 [==============================] - 6s 29ms/step - loss: 0.3017 - accuracy: 0.8830 - val_loss: 0.5626 - val_accuracy: 0.7760\n",
      "Epoch 5/100\n",
      "200/200 [==============================] - 6s 30ms/step - loss: 0.2614 - accuracy: 0.9007 - val_loss: 0.6107 - val_accuracy: 0.7777\n",
      "Epoch 6/100\n",
      "200/200 [==============================] - 6s 31ms/step - loss: 0.2230 - accuracy: 0.9140 - val_loss: 0.7696 - val_accuracy: 0.7719\n",
      "Epoch 7/100\n",
      "200/200 [==============================] - 6s 32ms/step - loss: 0.2013 - accuracy: 0.9151 - val_loss: 0.7236 - val_accuracy: 0.7884\n",
      "Epoch 8/100\n",
      "200/200 [==============================] - 6s 32ms/step - loss: 0.1800 - accuracy: 0.9212 - val_loss: 1.0167 - val_accuracy: 0.7678\n",
      "Epoch 9/100\n",
      "200/200 [==============================] - 6s 31ms/step - loss: 0.1633 - accuracy: 0.9293 - val_loss: 0.8912 - val_accuracy: 0.7760\n",
      "Epoch 10/100\n",
      "200/200 [==============================] - 6s 31ms/step - loss: 0.1500 - accuracy: 0.9359 - val_loss: 0.9672 - val_accuracy: 0.7539\n",
      "Epoch 11/100\n",
      "200/200 [==============================] - 6s 32ms/step - loss: 0.1401 - accuracy: 0.9423 - val_loss: 1.0176 - val_accuracy: 0.7687\n",
      "Epoch 12/100\n",
      "200/200 [==============================] - 7s 33ms/step - loss: 0.1304 - accuracy: 0.9453 - val_loss: 1.0811 - val_accuracy: 0.7613\n",
      "Epoch 13/100\n",
      "200/200 [==============================] - 6s 32ms/step - loss: 0.1147 - accuracy: 0.9542 - val_loss: 1.1544 - val_accuracy: 0.7703\n",
      "Epoch 14/100\n",
      "200/200 [==============================] - 6s 32ms/step - loss: 0.1121 - accuracy: 0.9557 - val_loss: 1.3663 - val_accuracy: 0.7539\n",
      "Epoch 15/100\n",
      "200/200 [==============================] - 6s 32ms/step - loss: 0.1183 - accuracy: 0.9531 - val_loss: 1.1504 - val_accuracy: 0.7449\n",
      "Epoch 16/100\n",
      "200/200 [==============================] - 8s 38ms/step - loss: 0.0994 - accuracy: 0.9593 - val_loss: 1.3109 - val_accuracy: 0.7531\n",
      "Epoch 17/100\n",
      "200/200 [==============================] - 8s 40ms/step - loss: 0.0938 - accuracy: 0.9612 - val_loss: 1.3056 - val_accuracy: 0.7613\n",
      "Epoch 18/100\n",
      "200/200 [==============================] - 7s 36ms/step - loss: 0.0965 - accuracy: 0.9625 - val_loss: 1.1118 - val_accuracy: 0.7605\n",
      "Epoch 19/100\n",
      "200/200 [==============================] - 7s 36ms/step - loss: 0.0939 - accuracy: 0.9615 - val_loss: 1.0460 - val_accuracy: 0.7637\n",
      "Epoch 20/100\n",
      "200/200 [==============================] - 7s 37ms/step - loss: 0.0851 - accuracy: 0.9659 - val_loss: 1.2690 - val_accuracy: 0.7588\n",
      "Epoch 21/100\n",
      "200/200 [==============================] - 7s 36ms/step - loss: 0.0748 - accuracy: 0.9676 - val_loss: 1.6429 - val_accuracy: 0.7613\n",
      "Epoch 22/100\n",
      "200/200 [==============================] - 6s 31ms/step - loss: 0.0753 - accuracy: 0.9654 - val_loss: 1.7308 - val_accuracy: 0.7260\n",
      "Epoch 23/100\n",
      "200/200 [==============================] - 6s 30ms/step - loss: 0.0694 - accuracy: 0.9693 - val_loss: 1.8214 - val_accuracy: 0.7367\n",
      "Epoch 24/100\n",
      "200/200 [==============================] - 7s 33ms/step - loss: 0.0748 - accuracy: 0.9679 - val_loss: 1.6725 - val_accuracy: 0.7449\n",
      "Epoch 25/100\n",
      "200/200 [==============================] - 6s 32ms/step - loss: 0.0710 - accuracy: 0.9695 - val_loss: 1.7229 - val_accuracy: 0.7523\n",
      "Epoch 26/100\n",
      "200/200 [==============================] - 6s 32ms/step - loss: 0.0605 - accuracy: 0.9704 - val_loss: 1.9552 - val_accuracy: 0.7408\n",
      "Epoch 27/100\n",
      "200/200 [==============================] - 6s 31ms/step - loss: 0.0601 - accuracy: 0.9720 - val_loss: 1.9458 - val_accuracy: 0.7449\n",
      "Epoch 28/100\n",
      "200/200 [==============================] - 6s 31ms/step - loss: 0.0644 - accuracy: 0.9693 - val_loss: 2.2762 - val_accuracy: 0.7367\n",
      "Epoch 29/100\n",
      "200/200 [==============================] - 6s 31ms/step - loss: 0.0745 - accuracy: 0.9678 - val_loss: 1.8096 - val_accuracy: 0.7342\n",
      "Epoch 30/100\n",
      "200/200 [==============================] - 7s 34ms/step - loss: 0.0648 - accuracy: 0.9712 - val_loss: 1.8366 - val_accuracy: 0.7424\n",
      "Epoch 31/100\n",
      "200/200 [==============================] - 7s 34ms/step - loss: 0.0558 - accuracy: 0.9744 - val_loss: 1.8473 - val_accuracy: 0.7375\n",
      "Epoch 32/100\n",
      "200/200 [==============================] - 7s 35ms/step - loss: 0.0544 - accuracy: 0.9762 - val_loss: 2.0662 - val_accuracy: 0.7342\n",
      "Epoch 33/100\n",
      "200/200 [==============================] - 7s 35ms/step - loss: 0.0556 - accuracy: 0.9739 - val_loss: 1.7503 - val_accuracy: 0.7539\n",
      "Epoch 34/100\n",
      "200/200 [==============================] - 7s 35ms/step - loss: 0.0508 - accuracy: 0.9762 - val_loss: 1.5568 - val_accuracy: 0.7391\n",
      "Epoch 35/100\n",
      "200/200 [==============================] - 7s 35ms/step - loss: 0.0526 - accuracy: 0.9765 - val_loss: 1.7151 - val_accuracy: 0.7449\n",
      "Epoch 36/100\n",
      "200/200 [==============================] - 8s 39ms/step - loss: 0.0526 - accuracy: 0.9758 - val_loss: 1.8378 - val_accuracy: 0.7490\n",
      "Epoch 37/100\n",
      "200/200 [==============================] - 8s 39ms/step - loss: 0.0555 - accuracy: 0.9747 - val_loss: 2.0684 - val_accuracy: 0.7490\n",
      "Epoch 38/100\n",
      "200/200 [==============================] - 7s 35ms/step - loss: 0.0652 - accuracy: 0.9736 - val_loss: 2.0837 - val_accuracy: 0.7498\n",
      "Epoch 39/100\n",
      "200/200 [==============================] - 7s 35ms/step - loss: 0.0560 - accuracy: 0.9758 - val_loss: 1.6839 - val_accuracy: 0.7441\n",
      "Epoch 40/100\n",
      "200/200 [==============================] - 7s 34ms/step - loss: 0.0547 - accuracy: 0.9751 - val_loss: 1.7569 - val_accuracy: 0.7613\n",
      "Epoch 41/100\n",
      "200/200 [==============================] - 6s 30ms/step - loss: 0.0503 - accuracy: 0.9772 - val_loss: 2.2160 - val_accuracy: 0.7301\n",
      "Epoch 42/100\n",
      "200/200 [==============================] - 6s 31ms/step - loss: 0.0476 - accuracy: 0.9765 - val_loss: 2.1637 - val_accuracy: 0.7424\n",
      "Epoch 43/100\n",
      "200/200 [==============================] - 7s 37ms/step - loss: 0.0457 - accuracy: 0.9784 - val_loss: 2.0518 - val_accuracy: 0.7449\n",
      "Epoch 44/100\n",
      "200/200 [==============================] - 7s 34ms/step - loss: 0.0528 - accuracy: 0.9775 - val_loss: 2.0943 - val_accuracy: 0.7416\n",
      "Epoch 45/100\n",
      "200/200 [==============================] - 6s 32ms/step - loss: 0.0507 - accuracy: 0.9779 - val_loss: 1.8861 - val_accuracy: 0.7506\n",
      "Epoch 46/100\n",
      "200/200 [==============================] - 6s 30ms/step - loss: 0.0539 - accuracy: 0.9748 - val_loss: 1.8333 - val_accuracy: 0.7490\n",
      "Epoch 47/100\n",
      "200/200 [==============================] - 6s 30ms/step - loss: 0.0519 - accuracy: 0.9769 - val_loss: 1.8033 - val_accuracy: 0.7564\n",
      "Epoch 48/100\n",
      "200/200 [==============================] - 7s 33ms/step - loss: 0.0452 - accuracy: 0.9786 - val_loss: 2.3035 - val_accuracy: 0.7432\n",
      "Epoch 49/100\n",
      "200/200 [==============================] - 6s 31ms/step - loss: 0.0417 - accuracy: 0.9797 - val_loss: 2.2771 - val_accuracy: 0.7547\n",
      "Epoch 50/100\n",
      "200/200 [==============================] - 6s 31ms/step - loss: 0.0429 - accuracy: 0.9787 - val_loss: 2.5158 - val_accuracy: 0.7490\n",
      "Epoch 51/100\n",
      "200/200 [==============================] - 6s 31ms/step - loss: 0.0469 - accuracy: 0.9781 - val_loss: 2.4284 - val_accuracy: 0.7391\n",
      "Epoch 52/100\n",
      "200/200 [==============================] - 6s 31ms/step - loss: 0.0424 - accuracy: 0.9805 - val_loss: 2.0390 - val_accuracy: 0.7416\n",
      "Epoch 53/100\n",
      "200/200 [==============================] - 6s 31ms/step - loss: 0.0495 - accuracy: 0.9773 - val_loss: 2.4137 - val_accuracy: 0.7490\n",
      "Epoch 54/100\n",
      "200/200 [==============================] - 6s 31ms/step - loss: 0.0441 - accuracy: 0.9779 - val_loss: 2.3978 - val_accuracy: 0.7342\n",
      "Epoch 55/100\n",
      "200/200 [==============================] - 6s 31ms/step - loss: 0.0470 - accuracy: 0.9786 - val_loss: 1.9863 - val_accuracy: 0.7523\n",
      "Epoch 56/100\n",
      "200/200 [==============================] - 6s 31ms/step - loss: 0.0456 - accuracy: 0.9805 - val_loss: 2.0898 - val_accuracy: 0.7531\n",
      "Epoch 57/100\n"
     ]
    },
    {
     "name": "stdout",
     "output_type": "stream",
     "text": [
      "200/200 [==============================] - 6s 31ms/step - loss: 0.0439 - accuracy: 0.9792 - val_loss: 2.0224 - val_accuracy: 0.7580\n",
      "Epoch 58/100\n",
      "200/200 [==============================] - 6s 31ms/step - loss: 0.0431 - accuracy: 0.9790 - val_loss: 2.1292 - val_accuracy: 0.7465\n",
      "Epoch 59/100\n",
      "200/200 [==============================] - 6s 31ms/step - loss: 0.0381 - accuracy: 0.9811 - val_loss: 2.5147 - val_accuracy: 0.7465\n",
      "Epoch 60/100\n",
      "200/200 [==============================] - 6s 31ms/step - loss: 0.0379 - accuracy: 0.9800 - val_loss: 2.6948 - val_accuracy: 0.7547\n",
      "Epoch 61/100\n",
      "200/200 [==============================] - 6s 32ms/step - loss: 0.0381 - accuracy: 0.9801 - val_loss: 2.7927 - val_accuracy: 0.7523\n",
      "Epoch 62/100\n",
      "200/200 [==============================] - 6s 31ms/step - loss: 0.0493 - accuracy: 0.9781 - val_loss: 1.4552 - val_accuracy: 0.7506\n",
      "Epoch 63/100\n",
      "200/200 [==============================] - 7s 33ms/step - loss: 0.0461 - accuracy: 0.9776 - val_loss: 2.4337 - val_accuracy: 0.7465\n",
      "Epoch 64/100\n",
      "200/200 [==============================] - 7s 33ms/step - loss: 0.0377 - accuracy: 0.9815 - val_loss: 2.6549 - val_accuracy: 0.7498\n",
      "Epoch 65/100\n",
      "200/200 [==============================] - 6s 32ms/step - loss: 0.0393 - accuracy: 0.9803 - val_loss: 2.9144 - val_accuracy: 0.7523\n",
      "Epoch 66/100\n",
      "200/200 [==============================] - 7s 33ms/step - loss: 0.0373 - accuracy: 0.9809 - val_loss: 2.7913 - val_accuracy: 0.7473\n",
      "Epoch 67/100\n",
      "200/200 [==============================] - 7s 33ms/step - loss: 0.0417 - accuracy: 0.9789 - val_loss: 2.3213 - val_accuracy: 0.7342\n",
      "Epoch 68/100\n",
      "200/200 [==============================] - 6s 32ms/step - loss: 0.0501 - accuracy: 0.9783 - val_loss: 2.1074 - val_accuracy: 0.7276\n",
      "Epoch 69/100\n",
      "200/200 [==============================] - 6s 31ms/step - loss: 0.0430 - accuracy: 0.9797 - val_loss: 2.3231 - val_accuracy: 0.7473\n",
      "Epoch 70/100\n",
      "200/200 [==============================] - 6s 30ms/step - loss: 0.0389 - accuracy: 0.9820 - val_loss: 2.5430 - val_accuracy: 0.7375\n",
      "Epoch 71/100\n",
      "200/200 [==============================] - 6s 30ms/step - loss: 0.0363 - accuracy: 0.9811 - val_loss: 3.0149 - val_accuracy: 0.7358\n",
      "Epoch 72/100\n",
      "200/200 [==============================] - 6s 30ms/step - loss: 0.0360 - accuracy: 0.9814 - val_loss: 3.0868 - val_accuracy: 0.7416\n",
      "Epoch 73/100\n",
      "200/200 [==============================] - 6s 31ms/step - loss: 0.0352 - accuracy: 0.9814 - val_loss: 3.2828 - val_accuracy: 0.7449\n",
      "Epoch 74/100\n",
      "200/200 [==============================] - 6s 31ms/step - loss: 0.0615 - accuracy: 0.9751 - val_loss: 2.1773 - val_accuracy: 0.7416\n",
      "Epoch 75/100\n",
      "200/200 [==============================] - 6s 30ms/step - loss: 0.0489 - accuracy: 0.9769 - val_loss: 2.5260 - val_accuracy: 0.7383\n",
      "Epoch 76/100\n",
      "200/200 [==============================] - 6s 31ms/step - loss: 0.0421 - accuracy: 0.9815 - val_loss: 2.4047 - val_accuracy: 0.7482\n",
      "Epoch 77/100\n",
      "200/200 [==============================] - 6s 31ms/step - loss: 0.0366 - accuracy: 0.9811 - val_loss: 2.8447 - val_accuracy: 0.7334\n",
      "Epoch 78/100\n",
      "200/200 [==============================] - 6s 30ms/step - loss: 0.0476 - accuracy: 0.9781 - val_loss: 1.8033 - val_accuracy: 0.7482\n",
      "Epoch 79/100\n",
      "200/200 [==============================] - 6s 31ms/step - loss: 0.0406 - accuracy: 0.9803 - val_loss: 2.4534 - val_accuracy: 0.7473\n",
      "Epoch 80/100\n",
      "200/200 [==============================] - 6s 31ms/step - loss: 0.0352 - accuracy: 0.9820 - val_loss: 2.7031 - val_accuracy: 0.7514\n",
      "Epoch 81/100\n",
      "200/200 [==============================] - 6s 31ms/step - loss: 0.0340 - accuracy: 0.9819 - val_loss: 2.9226 - val_accuracy: 0.7490\n",
      "Epoch 82/100\n",
      "200/200 [==============================] - 6s 31ms/step - loss: 0.0342 - accuracy: 0.9809 - val_loss: 3.0507 - val_accuracy: 0.7531\n",
      "Epoch 83/100\n",
      "200/200 [==============================] - 6s 31ms/step - loss: 0.0345 - accuracy: 0.9823 - val_loss: 3.0956 - val_accuracy: 0.7514\n",
      "Epoch 84/100\n",
      "200/200 [==============================] - 6s 31ms/step - loss: 0.0402 - accuracy: 0.9808 - val_loss: 2.8361 - val_accuracy: 0.7424\n",
      "Epoch 85/100\n",
      "200/200 [==============================] - 6s 31ms/step - loss: 0.0396 - accuracy: 0.9817 - val_loss: 3.0561 - val_accuracy: 0.7457\n",
      "Epoch 86/100\n",
      "200/200 [==============================] - 6s 32ms/step - loss: 0.0374 - accuracy: 0.9811 - val_loss: 2.4843 - val_accuracy: 0.7408\n",
      "Epoch 87/100\n",
      "200/200 [==============================] - 6s 31ms/step - loss: 0.0455 - accuracy: 0.9795 - val_loss: 2.5057 - val_accuracy: 0.7441\n",
      "Epoch 88/100\n",
      "200/200 [==============================] - 6s 30ms/step - loss: 0.0347 - accuracy: 0.9820 - val_loss: 2.9832 - val_accuracy: 0.7400\n",
      "Epoch 89/100\n",
      "200/200 [==============================] - 6s 31ms/step - loss: 0.0341 - accuracy: 0.9820 - val_loss: 3.0300 - val_accuracy: 0.7391\n",
      "Epoch 90/100\n",
      "200/200 [==============================] - 6s 31ms/step - loss: 0.0339 - accuracy: 0.9822 - val_loss: 3.2175 - val_accuracy: 0.7400\n",
      "Epoch 91/100\n",
      "200/200 [==============================] - 6s 31ms/step - loss: 0.0352 - accuracy: 0.9825 - val_loss: 3.0543 - val_accuracy: 0.7383\n",
      "Epoch 92/100\n",
      "200/200 [==============================] - 6s 31ms/step - loss: 0.0371 - accuracy: 0.9819 - val_loss: 2.8431 - val_accuracy: 0.7432\n",
      "Epoch 93/100\n",
      "200/200 [==============================] - 6s 30ms/step - loss: 0.0335 - accuracy: 0.9814 - val_loss: 2.9264 - val_accuracy: 0.7408\n",
      "Epoch 94/100\n",
      "200/200 [==============================] - 6s 31ms/step - loss: 0.0329 - accuracy: 0.9819 - val_loss: 3.0946 - val_accuracy: 0.7449\n",
      "Epoch 95/100\n",
      "200/200 [==============================] - 6s 30ms/step - loss: 0.0334 - accuracy: 0.9817 - val_loss: 3.3092 - val_accuracy: 0.7326\n",
      "Epoch 96/100\n",
      "200/200 [==============================] - 6s 31ms/step - loss: 0.0457 - accuracy: 0.9803 - val_loss: 2.2023 - val_accuracy: 0.7424\n",
      "Epoch 97/100\n",
      "200/200 [==============================] - 6s 32ms/step - loss: 0.0480 - accuracy: 0.9781 - val_loss: 2.2363 - val_accuracy: 0.7375\n",
      "Epoch 98/100\n",
      "200/200 [==============================] - 6s 30ms/step - loss: 0.0423 - accuracy: 0.9806 - val_loss: 2.1490 - val_accuracy: 0.7342\n",
      "Epoch 99/100\n",
      "200/200 [==============================] - 6s 31ms/step - loss: 0.0348 - accuracy: 0.9825 - val_loss: 2.9028 - val_accuracy: 0.7039\n",
      "Epoch 100/100\n",
      "200/200 [==============================] - 6s 31ms/step - loss: 0.0357 - accuracy: 0.9820 - val_loss: 2.8209 - val_accuracy: 0.7244\n"
     ]
    }
   ],
   "source": [
    "history_2_model=model_2.fit(x=X_train,y=y_train, epochs=100,validation_data=(X_test,y_test))"
   ]
  },
  {
   "cell_type": "code",
   "execution_count": 85,
   "metadata": {},
   "outputs": [
    {
     "data": {
      "text/plain": [
       "array([[9.9999899e-01],\n",
       "       [2.6118569e-05],\n",
       "       [2.6493618e-07],\n",
       "       [9.9999690e-01],\n",
       "       [2.4817678e-07],\n",
       "       [9.9999952e-01],\n",
       "       [1.6756279e-07],\n",
       "       [9.7588074e-01],\n",
       "       [2.4794517e-07],\n",
       "       [1.9471649e-07],\n",
       "       [4.4859533e-07],\n",
       "       [1.7671316e-06],\n",
       "       [9.9981987e-01],\n",
       "       [1.6234502e-07],\n",
       "       [2.4128903e-07],\n",
       "       [1.7515580e-06],\n",
       "       [9.9999875e-01],\n",
       "       [6.5946579e-03],\n",
       "       [9.9999845e-01],\n",
       "       [2.1075549e-07]], dtype=float32)"
      ]
     },
     "execution_count": 85,
     "metadata": {},
     "output_type": "execute_result"
    }
   ],
   "source": [
    "model_2_predict_probs=model_2.predict(X_test)\n",
    "model_2_predict_probs[:20]"
   ]
  },
  {
   "cell_type": "code",
   "execution_count": 86,
   "metadata": {},
   "outputs": [
    {
     "data": {
      "text/plain": [
       "<tf.Tensor: shape=(1219,), dtype=float32, numpy=array([1., 0., 0., ..., 0., 1., 0.], dtype=float32)>"
      ]
     },
     "execution_count": 86,
     "metadata": {},
     "output_type": "execute_result"
    }
   ],
   "source": [
    "# Converting these Probabilites to Labels of 0 and 1\n",
    "model_2_predictions=tf.squeeze(tf.round(model_2_predict_probs))\n",
    "model_2_predictions"
   ]
  },
  {
   "cell_type": "code",
   "execution_count": 87,
   "metadata": {},
   "outputs": [
    {
     "data": {
      "text/plain": [
       "{'accuracy': 72.43642329778507,\n",
       " 'precision': 0.7328843151599059,\n",
       " 'recall': 0.7243642329778507,\n",
       " 'f1': 0.7266377181932903}"
      ]
     },
     "execution_count": 87,
     "metadata": {},
     "output_type": "execute_result"
    }
   ],
   "source": [
    "model_2_res=calculate_results(y_true=y_test,y_pred=model_2_predictions)\n",
    "model_2_res"
   ]
  }
 ],
 "metadata": {
  "accelerator": "GPU",
  "colab": {
   "name": "Session4NLP.ipynb",
   "provenance": []
  },
  "kernelspec": {
   "display_name": "Python 3 (ipykernel)",
   "language": "python",
   "name": "python3"
  },
  "language_info": {
   "codemirror_mode": {
    "name": "ipython",
    "version": 3
   },
   "file_extension": ".py",
   "mimetype": "text/x-python",
   "name": "python",
   "nbconvert_exporter": "python",
   "pygments_lexer": "ipython3",
   "version": "3.9.7"
  }
 },
 "nbformat": 4,
 "nbformat_minor": 1
}
